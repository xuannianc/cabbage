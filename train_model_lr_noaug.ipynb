{
 "cells": [
  {
   "cell_type": "code",
   "execution_count": 15,
   "metadata": {},
   "outputs": [],
   "source": [
    "import keras\n",
    "from sklearn.preprocessing import LabelBinarizer\n",
    "from keras import backend as K\n",
    "from models.lenet_official import LeNet\n",
    "from sklearn.metrics import classification_report\n",
    "import matplotlib.pyplot as plt\n",
    "import numpy as np\n",
    "from dataset_loaders import SimpleDatasetLoader\n",
    "from imutils import paths\n",
    "from sklearn.model_selection import train_test_split\n",
    "from keras.optimizers import SGD"
   ]
  },
  {
   "cell_type": "code",
   "execution_count": 16,
   "metadata": {},
   "outputs": [],
   "source": [
    "sdl = SimpleDatasetLoader()"
   ]
  },
  {
   "cell_type": "code",
   "execution_count": 17,
   "metadata": {},
   "outputs": [],
   "source": [
    "image_paths = list(paths.list_images('./datasets/digits'))"
   ]
  },
  {
   "cell_type": "code",
   "execution_count": 18,
   "metadata": {},
   "outputs": [
    {
     "name": "stdout",
     "output_type": "stream",
     "text": [
      "[INFO] processed 500/2301\n",
      "[INFO] processed 1000/2301\n",
      "[INFO] processed 1500/2301\n",
      "[INFO] processed 2000/2301\n"
     ]
    }
   ],
   "source": [
    "(data, labels) = sdl.load(image_paths, verbose=500)"
   ]
  },
  {
   "cell_type": "code",
   "execution_count": 19,
   "metadata": {},
   "outputs": [],
   "source": [
    "data = data.astype(\"float\") / 255.0"
   ]
  },
  {
   "cell_type": "code",
   "execution_count": 20,
   "metadata": {},
   "outputs": [],
   "source": [
    "(x_train, x_test, y_train, y_test) = train_test_split(data, labels, test_size=0.25, random_state=42)"
   ]
  },
  {
   "cell_type": "code",
   "execution_count": 21,
   "metadata": {},
   "outputs": [
    {
     "data": {
      "text/plain": [
       "((1725, 28, 28), (1725,), (576, 28, 28), (576,))"
      ]
     },
     "execution_count": 21,
     "metadata": {},
     "output_type": "execute_result"
    }
   ],
   "source": [
    "x_train.shape,y_train.shape,x_test.shape,y_test.shape"
   ]
  },
  {
   "cell_type": "code",
   "execution_count": 22,
   "metadata": {},
   "outputs": [],
   "source": [
    "y_train = LabelBinarizer().fit_transform(y_train)"
   ]
  },
  {
   "cell_type": "code",
   "execution_count": 23,
   "metadata": {},
   "outputs": [],
   "source": [
    "y_test = LabelBinarizer().fit_transform(y_test)"
   ]
  },
  {
   "cell_type": "code",
   "execution_count": 24,
   "metadata": {},
   "outputs": [
    {
     "data": {
      "text/plain": [
       "((1725, 28, 28), (1725, 10), (576, 28, 28), (576, 10))"
      ]
     },
     "execution_count": 24,
     "metadata": {},
     "output_type": "execute_result"
    }
   ],
   "source": [
    "x_train.shape,y_train.shape,x_test.shape,y_test.shape"
   ]
  },
  {
   "cell_type": "code",
   "execution_count": 25,
   "metadata": {},
   "outputs": [],
   "source": [
    "x_train = x_train.reshape(x_train.shape[0],28,28,1)"
   ]
  },
  {
   "cell_type": "code",
   "execution_count": 26,
   "metadata": {},
   "outputs": [],
   "source": [
    "x_test = x_test.reshape(x_test.shape[0],28,28,1)"
   ]
  },
  {
   "cell_type": "code",
   "execution_count": 27,
   "metadata": {},
   "outputs": [
    {
     "data": {
      "text/plain": [
       "((1725, 28, 28, 1), (1725, 10), (576, 28, 28, 1), (576, 10))"
      ]
     },
     "execution_count": 27,
     "metadata": {},
     "output_type": "execute_result"
    }
   ],
   "source": [
    "x_train.shape,y_train.shape,x_test.shape,y_test.shape"
   ]
  },
  {
   "cell_type": "code",
   "execution_count": 28,
   "metadata": {},
   "outputs": [],
   "source": [
    "opt = SGD(lr=0.01, decay=0.01 / 100, momentum=0.9, nesterov=True)"
   ]
  },
  {
   "cell_type": "code",
   "execution_count": 29,
   "metadata": {},
   "outputs": [],
   "source": [
    "model = LeNet.build(width=28, height=28, depth=1, num_classes=10)"
   ]
  },
  {
   "cell_type": "code",
   "execution_count": 30,
   "metadata": {},
   "outputs": [],
   "source": [
    "model.compile(loss=\"categorical_crossentropy\", optimizer=opt, metrics=[\"accuracy\"])"
   ]
  },
  {
   "cell_type": "code",
   "execution_count": 31,
   "metadata": {},
   "outputs": [],
   "source": [
    "from keras.callbacks import ModelCheckpoint\n",
    "checkpoint = ModelCheckpoint('models/best_weights.hdf5', monitor=\"val_loss\", save_best_only=True, verbose=1)\n",
    "callbacks = [checkpoint]"
   ]
  },
  {
   "cell_type": "code",
   "execution_count": 32,
   "metadata": {},
   "outputs": [
    {
     "name": "stdout",
     "output_type": "stream",
     "text": [
      "Train on 1725 samples, validate on 576 samples\n",
      "Epoch 1/100\n",
      "1725/1725 [==============================] - 1s 860us/step - loss: 2.2917 - acc: 0.1472 - val_loss: 2.2640 - val_acc: 0.1493\n",
      "\n",
      "Epoch 00001: val_loss improved from inf to 2.26397, saving model to models/best_weights.hdf5\n",
      "Epoch 2/100\n",
      "1725/1725 [==============================] - 0s 231us/step - loss: 2.1820 - acc: 0.2139 - val_loss: 1.9209 - val_acc: 0.4740\n",
      "\n",
      "Epoch 00002: val_loss improved from 2.26397 to 1.92087, saving model to models/best_weights.hdf5\n",
      "Epoch 3/100\n",
      "1725/1725 [==============================] - 0s 221us/step - loss: 1.2065 - acc: 0.6261 - val_loss: 0.4597 - val_acc: 0.8681\n",
      "\n",
      "Epoch 00003: val_loss improved from 1.92087 to 0.45970, saving model to models/best_weights.hdf5\n",
      "Epoch 4/100\n",
      "1725/1725 [==============================] - 0s 229us/step - loss: 0.4314 - acc: 0.8713 - val_loss: 0.1752 - val_acc: 0.9757\n",
      "\n",
      "Epoch 00004: val_loss improved from 0.45970 to 0.17520, saving model to models/best_weights.hdf5\n",
      "Epoch 5/100\n",
      "1725/1725 [==============================] - 0s 221us/step - loss: 0.2107 - acc: 0.9449 - val_loss: 0.1169 - val_acc: 0.9809\n",
      "\n",
      "Epoch 00005: val_loss improved from 0.17520 to 0.11695, saving model to models/best_weights.hdf5\n",
      "Epoch 6/100\n",
      "1725/1725 [==============================] - 0s 221us/step - loss: 0.1677 - acc: 0.9565 - val_loss: 0.1190 - val_acc: 0.9774\n",
      "\n",
      "Epoch 00006: val_loss did not improve from 0.11695\n",
      "Epoch 7/100\n",
      "1725/1725 [==============================] - 0s 233us/step - loss: 0.1522 - acc: 0.9612 - val_loss: 0.1102 - val_acc: 0.9826\n",
      "\n",
      "Epoch 00007: val_loss improved from 0.11695 to 0.11022, saving model to models/best_weights.hdf5\n",
      "Epoch 8/100\n",
      "1725/1725 [==============================] - 0s 232us/step - loss: 0.1135 - acc: 0.9780 - val_loss: 0.1025 - val_acc: 0.9844\n",
      "\n",
      "Epoch 00008: val_loss improved from 0.11022 to 0.10253, saving model to models/best_weights.hdf5\n",
      "Epoch 9/100\n",
      "1725/1725 [==============================] - 0s 224us/step - loss: 0.1184 - acc: 0.9699 - val_loss: 0.0968 - val_acc: 0.9861\n",
      "\n",
      "Epoch 00009: val_loss improved from 0.10253 to 0.09675, saving model to models/best_weights.hdf5\n",
      "Epoch 10/100\n",
      "1725/1725 [==============================] - 0s 229us/step - loss: 0.1089 - acc: 0.9768 - val_loss: 0.0960 - val_acc: 0.9896\n",
      "\n",
      "Epoch 00010: val_loss improved from 0.09675 to 0.09603, saving model to models/best_weights.hdf5\n",
      "Epoch 11/100\n",
      "1725/1725 [==============================] - 0s 223us/step - loss: 0.0884 - acc: 0.9803 - val_loss: 0.1014 - val_acc: 0.9826\n",
      "\n",
      "Epoch 00011: val_loss did not improve from 0.09603\n",
      "Epoch 12/100\n",
      "1725/1725 [==============================] - 0s 221us/step - loss: 0.0838 - acc: 0.9780 - val_loss: 0.1075 - val_acc: 0.9826\n",
      "\n",
      "Epoch 00012: val_loss did not improve from 0.09603\n",
      "Epoch 13/100\n",
      "1725/1725 [==============================] - 0s 240us/step - loss: 0.0841 - acc: 0.9814 - val_loss: 0.0980 - val_acc: 0.9826\n",
      "\n",
      "Epoch 00013: val_loss did not improve from 0.09603\n",
      "Epoch 14/100\n",
      "1725/1725 [==============================] - 0s 225us/step - loss: 0.0783 - acc: 0.9820 - val_loss: 0.1004 - val_acc: 0.9861\n",
      "\n",
      "Epoch 00014: val_loss did not improve from 0.09603\n",
      "Epoch 15/100\n",
      "1725/1725 [==============================] - 0s 238us/step - loss: 0.0922 - acc: 0.9745 - val_loss: 0.0963 - val_acc: 0.9861\n",
      "\n",
      "Epoch 00015: val_loss did not improve from 0.09603\n",
      "Epoch 16/100\n",
      "1725/1725 [==============================] - 0s 223us/step - loss: 0.0775 - acc: 0.9774 - val_loss: 0.1004 - val_acc: 0.9826\n",
      "\n",
      "Epoch 00016: val_loss did not improve from 0.09603\n",
      "Epoch 17/100\n",
      "1725/1725 [==============================] - 0s 233us/step - loss: 0.0633 - acc: 0.9861 - val_loss: 0.1054 - val_acc: 0.9844\n",
      "\n",
      "Epoch 00017: val_loss did not improve from 0.09603\n",
      "Epoch 18/100\n",
      "1725/1725 [==============================] - 0s 229us/step - loss: 0.0670 - acc: 0.9826 - val_loss: 0.1028 - val_acc: 0.9878\n",
      "\n",
      "Epoch 00018: val_loss did not improve from 0.09603\n",
      "Epoch 19/100\n",
      "1725/1725 [==============================] - 0s 226us/step - loss: 0.0715 - acc: 0.9838 - val_loss: 0.1082 - val_acc: 0.9844\n",
      "\n",
      "Epoch 00019: val_loss did not improve from 0.09603\n",
      "Epoch 20/100\n",
      "1725/1725 [==============================] - 0s 237us/step - loss: 0.0575 - acc: 0.9878 - val_loss: 0.1069 - val_acc: 0.9844\n",
      "\n",
      "Epoch 00020: val_loss did not improve from 0.09603\n",
      "Epoch 21/100\n",
      "1725/1725 [==============================] - 0s 221us/step - loss: 0.0515 - acc: 0.9855 - val_loss: 0.1078 - val_acc: 0.9826\n",
      "\n",
      "Epoch 00021: val_loss did not improve from 0.09603\n",
      "Epoch 22/100\n",
      "1725/1725 [==============================] - 0s 220us/step - loss: 0.0455 - acc: 0.9907 - val_loss: 0.0970 - val_acc: 0.9896\n",
      "\n",
      "Epoch 00022: val_loss did not improve from 0.09603\n",
      "Epoch 23/100\n",
      "1725/1725 [==============================] - 0s 220us/step - loss: 0.0587 - acc: 0.9849 - val_loss: 0.0997 - val_acc: 0.9896\n",
      "\n",
      "Epoch 00023: val_loss did not improve from 0.09603\n",
      "Epoch 24/100\n",
      "1725/1725 [==============================] - 0s 215us/step - loss: 0.0625 - acc: 0.9849 - val_loss: 0.0959 - val_acc: 0.9896\n",
      "\n",
      "Epoch 00024: val_loss improved from 0.09603 to 0.09587, saving model to models/best_weights.hdf5\n",
      "Epoch 25/100\n",
      "1725/1725 [==============================] - 0s 220us/step - loss: 0.0460 - acc: 0.9896 - val_loss: 0.1029 - val_acc: 0.9878\n",
      "\n",
      "Epoch 00025: val_loss did not improve from 0.09587\n",
      "Epoch 26/100\n",
      "1725/1725 [==============================] - 0s 220us/step - loss: 0.0591 - acc: 0.9838 - val_loss: 0.0993 - val_acc: 0.9913\n",
      "\n",
      "Epoch 00026: val_loss did not improve from 0.09587\n",
      "Epoch 27/100\n",
      "1725/1725 [==============================] - 0s 231us/step - loss: 0.0539 - acc: 0.9896 - val_loss: 0.1008 - val_acc: 0.9896\n",
      "\n",
      "Epoch 00027: val_loss did not improve from 0.09587\n",
      "Epoch 28/100\n",
      "1725/1725 [==============================] - 0s 228us/step - loss: 0.0372 - acc: 0.9919 - val_loss: 0.1019 - val_acc: 0.9878\n",
      "\n",
      "Epoch 00028: val_loss did not improve from 0.09587\n",
      "Epoch 29/100\n",
      "1725/1725 [==============================] - 0s 230us/step - loss: 0.0308 - acc: 0.9936 - val_loss: 0.1044 - val_acc: 0.9878\n",
      "\n",
      "Epoch 00029: val_loss did not improve from 0.09587\n",
      "Epoch 30/100\n",
      "1725/1725 [==============================] - 0s 223us/step - loss: 0.0399 - acc: 0.9884 - val_loss: 0.1006 - val_acc: 0.9913\n",
      "\n",
      "Epoch 00030: val_loss did not improve from 0.09587\n",
      "Epoch 31/100\n",
      "1725/1725 [==============================] - 0s 234us/step - loss: 0.0517 - acc: 0.9832 - val_loss: 0.1068 - val_acc: 0.9844\n",
      "\n",
      "Epoch 00031: val_loss did not improve from 0.09587\n",
      "Epoch 32/100\n",
      "1725/1725 [==============================] - 0s 244us/step - loss: 0.0420 - acc: 0.9901 - val_loss: 0.1046 - val_acc: 0.9861\n",
      "\n",
      "Epoch 00032: val_loss did not improve from 0.09587\n",
      "Epoch 33/100\n",
      "1725/1725 [==============================] - 0s 231us/step - loss: 0.0389 - acc: 0.9890 - val_loss: 0.1071 - val_acc: 0.9878\n",
      "\n",
      "Epoch 00033: val_loss did not improve from 0.09587\n",
      "Epoch 34/100\n",
      "1725/1725 [==============================] - 0s 225us/step - loss: 0.0309 - acc: 0.9930 - val_loss: 0.1035 - val_acc: 0.9896\n",
      "\n",
      "Epoch 00034: val_loss did not improve from 0.09587\n",
      "Epoch 35/100\n",
      "1725/1725 [==============================] - 0s 222us/step - loss: 0.0321 - acc: 0.9925 - val_loss: 0.1075 - val_acc: 0.9896\n",
      "\n",
      "Epoch 00035: val_loss did not improve from 0.09587\n",
      "Epoch 36/100\n",
      "1725/1725 [==============================] - 0s 220us/step - loss: 0.0340 - acc: 0.9919 - val_loss: 0.1064 - val_acc: 0.9913\n",
      "\n",
      "Epoch 00036: val_loss did not improve from 0.09587\n",
      "Epoch 37/100\n",
      "1725/1725 [==============================] - 0s 222us/step - loss: 0.0266 - acc: 0.9930 - val_loss: 0.1141 - val_acc: 0.9878\n",
      "\n",
      "Epoch 00037: val_loss did not improve from 0.09587\n",
      "Epoch 38/100\n",
      "1725/1725 [==============================] - 0s 220us/step - loss: 0.0287 - acc: 0.9913 - val_loss: 0.1124 - val_acc: 0.9896\n",
      "\n",
      "Epoch 00038: val_loss did not improve from 0.09587\n",
      "Epoch 39/100\n",
      "1725/1725 [==============================] - 0s 222us/step - loss: 0.0278 - acc: 0.9919 - val_loss: 0.1111 - val_acc: 0.9878\n",
      "\n",
      "Epoch 00039: val_loss did not improve from 0.09587\n",
      "Epoch 40/100\n",
      "1725/1725 [==============================] - 0s 229us/step - loss: 0.0259 - acc: 0.9954 - val_loss: 0.1145 - val_acc: 0.9878\n",
      "\n",
      "Epoch 00040: val_loss did not improve from 0.09587\n",
      "Epoch 41/100\n",
      "1725/1725 [==============================] - 0s 236us/step - loss: 0.0278 - acc: 0.9919 - val_loss: 0.1161 - val_acc: 0.9878\n"
     ]
    },
    {
     "name": "stdout",
     "output_type": "stream",
     "text": [
      "\n",
      "Epoch 00041: val_loss did not improve from 0.09587\n",
      "Epoch 42/100\n",
      "1725/1725 [==============================] - 0s 223us/step - loss: 0.0294 - acc: 0.9919 - val_loss: 0.1084 - val_acc: 0.9913\n",
      "\n",
      "Epoch 00042: val_loss did not improve from 0.09587\n",
      "Epoch 43/100\n",
      "1725/1725 [==============================] - 0s 228us/step - loss: 0.0352 - acc: 0.9907 - val_loss: 0.1087 - val_acc: 0.9896\n",
      "\n",
      "Epoch 00043: val_loss did not improve from 0.09587\n",
      "Epoch 44/100\n",
      "1725/1725 [==============================] - 0s 222us/step - loss: 0.0268 - acc: 0.9930 - val_loss: 0.1143 - val_acc: 0.9878\n",
      "\n",
      "Epoch 00044: val_loss did not improve from 0.09587\n",
      "Epoch 45/100\n",
      "1725/1725 [==============================] - 0s 218us/step - loss: 0.0251 - acc: 0.9930 - val_loss: 0.1033 - val_acc: 0.9913\n",
      "\n",
      "Epoch 00045: val_loss did not improve from 0.09587\n",
      "Epoch 46/100\n",
      "1725/1725 [==============================] - 0s 222us/step - loss: 0.0269 - acc: 0.9936 - val_loss: 0.1147 - val_acc: 0.9896\n",
      "\n",
      "Epoch 00046: val_loss did not improve from 0.09587\n",
      "Epoch 47/100\n",
      "1725/1725 [==============================] - 0s 221us/step - loss: 0.0242 - acc: 0.9930 - val_loss: 0.1135 - val_acc: 0.9896\n",
      "\n",
      "Epoch 00047: val_loss did not improve from 0.09587\n",
      "Epoch 48/100\n",
      "1725/1725 [==============================] - 0s 220us/step - loss: 0.0273 - acc: 0.9942 - val_loss: 0.1143 - val_acc: 0.9896\n",
      "\n",
      "Epoch 00048: val_loss did not improve from 0.09587\n",
      "Epoch 49/100\n",
      "1725/1725 [==============================] - 0s 230us/step - loss: 0.0249 - acc: 0.9942 - val_loss: 0.1104 - val_acc: 0.9913\n",
      "\n",
      "Epoch 00049: val_loss did not improve from 0.09587\n",
      "Epoch 50/100\n",
      "1725/1725 [==============================] - 0s 231us/step - loss: 0.0251 - acc: 0.9948 - val_loss: 0.1125 - val_acc: 0.9878\n",
      "\n",
      "Epoch 00050: val_loss did not improve from 0.09587\n",
      "Epoch 51/100\n",
      "1725/1725 [==============================] - 0s 226us/step - loss: 0.0178 - acc: 0.9959 - val_loss: 0.1068 - val_acc: 0.9896\n",
      "\n",
      "Epoch 00051: val_loss did not improve from 0.09587\n",
      "Epoch 52/100\n",
      "1725/1725 [==============================] - 0s 236us/step - loss: 0.0237 - acc: 0.9942 - val_loss: 0.1118 - val_acc: 0.9878\n",
      "\n",
      "Epoch 00052: val_loss did not improve from 0.09587\n",
      "Epoch 53/100\n",
      "1725/1725 [==============================] - 0s 221us/step - loss: 0.0169 - acc: 0.9954 - val_loss: 0.1135 - val_acc: 0.9878\n",
      "\n",
      "Epoch 00053: val_loss did not improve from 0.09587\n",
      "Epoch 54/100\n",
      "1725/1725 [==============================] - 0s 219us/step - loss: 0.0210 - acc: 0.9936 - val_loss: 0.1113 - val_acc: 0.9896\n",
      "\n",
      "Epoch 00054: val_loss did not improve from 0.09587\n",
      "Epoch 55/100\n",
      "1725/1725 [==============================] - 0s 239us/step - loss: 0.0206 - acc: 0.9954 - val_loss: 0.1139 - val_acc: 0.9878\n",
      "\n",
      "Epoch 00055: val_loss did not improve from 0.09587\n",
      "Epoch 56/100\n",
      "1725/1725 [==============================] - 0s 222us/step - loss: 0.0205 - acc: 0.9925 - val_loss: 0.1140 - val_acc: 0.9896\n",
      "\n",
      "Epoch 00056: val_loss did not improve from 0.09587\n",
      "Epoch 57/100\n",
      "1725/1725 [==============================] - 0s 233us/step - loss: 0.0243 - acc: 0.9936 - val_loss: 0.1101 - val_acc: 0.9896\n",
      "\n",
      "Epoch 00057: val_loss did not improve from 0.09587\n",
      "Epoch 58/100\n",
      "1725/1725 [==============================] - 0s 226us/step - loss: 0.0156 - acc: 0.9948 - val_loss: 0.1076 - val_acc: 0.9913\n",
      "\n",
      "Epoch 00058: val_loss did not improve from 0.09587\n",
      "Epoch 59/100\n",
      "1725/1725 [==============================] - 0s 226us/step - loss: 0.0197 - acc: 0.9954 - val_loss: 0.1080 - val_acc: 0.9896\n",
      "\n",
      "Epoch 00059: val_loss did not improve from 0.09587\n",
      "Epoch 60/100\n",
      "1725/1725 [==============================] - 0s 228us/step - loss: 0.0176 - acc: 0.9959 - val_loss: 0.1084 - val_acc: 0.9896\n",
      "\n",
      "Epoch 00060: val_loss did not improve from 0.09587\n",
      "Epoch 61/100\n",
      "1725/1725 [==============================] - 0s 232us/step - loss: 0.0169 - acc: 0.9948 - val_loss: 0.1139 - val_acc: 0.9878\n",
      "\n",
      "Epoch 00061: val_loss did not improve from 0.09587\n",
      "Epoch 62/100\n",
      "1725/1725 [==============================] - 0s 227us/step - loss: 0.0145 - acc: 0.9954 - val_loss: 0.1132 - val_acc: 0.9878\n",
      "\n",
      "Epoch 00062: val_loss did not improve from 0.09587\n",
      "Epoch 63/100\n",
      "1725/1725 [==============================] - 0s 234us/step - loss: 0.0271 - acc: 0.9930 - val_loss: 0.1128 - val_acc: 0.9878\n",
      "\n",
      "Epoch 00063: val_loss did not improve from 0.09587\n",
      "Epoch 64/100\n",
      "1725/1725 [==============================] - 0s 227us/step - loss: 0.0227 - acc: 0.9965 - val_loss: 0.1154 - val_acc: 0.9844\n",
      "\n",
      "Epoch 00064: val_loss did not improve from 0.09587\n",
      "Epoch 65/100\n",
      "1725/1725 [==============================] - 0s 243us/step - loss: 0.0182 - acc: 0.9942 - val_loss: 0.1061 - val_acc: 0.9913\n",
      "\n",
      "Epoch 00065: val_loss did not improve from 0.09587\n",
      "Epoch 66/100\n",
      "1725/1725 [==============================] - 0s 223us/step - loss: 0.0138 - acc: 0.9954 - val_loss: 0.1088 - val_acc: 0.9913\n",
      "\n",
      "Epoch 00066: val_loss did not improve from 0.09587\n",
      "Epoch 67/100\n",
      "1725/1725 [==============================] - 0s 231us/step - loss: 0.0112 - acc: 0.9977 - val_loss: 0.1084 - val_acc: 0.9913\n",
      "\n",
      "Epoch 00067: val_loss did not improve from 0.09587\n",
      "Epoch 68/100\n",
      "1725/1725 [==============================] - 0s 239us/step - loss: 0.0194 - acc: 0.9954 - val_loss: 0.1085 - val_acc: 0.9896\n",
      "\n",
      "Epoch 00068: val_loss did not improve from 0.09587\n",
      "Epoch 69/100\n",
      "1725/1725 [==============================] - 0s 233us/step - loss: 0.0264 - acc: 0.9948 - val_loss: 0.1083 - val_acc: 0.9896\n",
      "\n",
      "Epoch 00069: val_loss did not improve from 0.09587\n",
      "Epoch 70/100\n",
      "1725/1725 [==============================] - 0s 231us/step - loss: 0.0178 - acc: 0.9959 - val_loss: 0.1150 - val_acc: 0.9844\n",
      "\n",
      "Epoch 00070: val_loss did not improve from 0.09587\n",
      "Epoch 71/100\n",
      "1725/1725 [==============================] - 0s 232us/step - loss: 0.0235 - acc: 0.9936 - val_loss: 0.1055 - val_acc: 0.9913\n",
      "\n",
      "Epoch 00071: val_loss did not improve from 0.09587\n",
      "Epoch 72/100\n",
      "1725/1725 [==============================] - 0s 227us/step - loss: 0.0169 - acc: 0.9954 - val_loss: 0.1097 - val_acc: 0.9878\n",
      "\n",
      "Epoch 00072: val_loss did not improve from 0.09587\n",
      "Epoch 73/100\n",
      "1725/1725 [==============================] - 0s 220us/step - loss: 0.0127 - acc: 0.9971 - val_loss: 0.1097 - val_acc: 0.9896\n",
      "\n",
      "Epoch 00073: val_loss did not improve from 0.09587\n",
      "Epoch 74/100\n",
      "1725/1725 [==============================] - 0s 234us/step - loss: 0.0141 - acc: 0.9942 - val_loss: 0.1128 - val_acc: 0.9896\n",
      "\n",
      "Epoch 00074: val_loss did not improve from 0.09587\n",
      "Epoch 75/100\n",
      "1725/1725 [==============================] - 0s 228us/step - loss: 0.0160 - acc: 0.9971 - val_loss: 0.1133 - val_acc: 0.9896\n",
      "\n",
      "Epoch 00075: val_loss did not improve from 0.09587\n",
      "Epoch 76/100\n",
      "1725/1725 [==============================] - 0s 234us/step - loss: 0.0213 - acc: 0.9936 - val_loss: 0.1096 - val_acc: 0.9878\n",
      "\n",
      "Epoch 00076: val_loss did not improve from 0.09587\n",
      "Epoch 77/100\n",
      "1725/1725 [==============================] - 0s 232us/step - loss: 0.0152 - acc: 0.9965 - val_loss: 0.1220 - val_acc: 0.9896\n",
      "\n",
      "Epoch 00077: val_loss did not improve from 0.09587\n",
      "Epoch 78/100\n",
      "1725/1725 [==============================] - 0s 231us/step - loss: 0.0149 - acc: 0.9936 - val_loss: 0.1128 - val_acc: 0.9896\n",
      "\n",
      "Epoch 00078: val_loss did not improve from 0.09587\n",
      "Epoch 79/100\n",
      "1725/1725 [==============================] - 0s 224us/step - loss: 0.0074 - acc: 0.9983 - val_loss: 0.1176 - val_acc: 0.9896\n",
      "\n",
      "Epoch 00079: val_loss did not improve from 0.09587\n",
      "Epoch 80/100\n",
      "1725/1725 [==============================] - 0s 220us/step - loss: 0.0175 - acc: 0.9954 - val_loss: 0.1086 - val_acc: 0.9896\n",
      "\n",
      "Epoch 00080: val_loss did not improve from 0.09587\n",
      "Epoch 81/100\n",
      "1725/1725 [==============================] - 0s 221us/step - loss: 0.0156 - acc: 0.9965 - val_loss: 0.1088 - val_acc: 0.9896\n",
      "\n",
      "Epoch 00081: val_loss did not improve from 0.09587\n",
      "Epoch 82/100\n",
      "1725/1725 [==============================] - 0s 228us/step - loss: 0.0185 - acc: 0.9954 - val_loss: 0.1111 - val_acc: 0.9896\n",
      "\n",
      "Epoch 00082: val_loss did not improve from 0.09587\n",
      "Epoch 83/100\n",
      "1725/1725 [==============================] - 0s 227us/step - loss: 0.0154 - acc: 0.9942 - val_loss: 0.1095 - val_acc: 0.9896\n",
      "\n",
      "Epoch 00083: val_loss did not improve from 0.09587\n",
      "Epoch 84/100\n",
      "1725/1725 [==============================] - 0s 234us/step - loss: 0.0119 - acc: 0.9971 - val_loss: 0.1101 - val_acc: 0.9878\n",
      "\n",
      "Epoch 00084: val_loss did not improve from 0.09587\n",
      "Epoch 85/100\n"
     ]
    },
    {
     "name": "stdout",
     "output_type": "stream",
     "text": [
      "1725/1725 [==============================] - 0s 234us/step - loss: 0.0148 - acc: 0.9942 - val_loss: 0.1107 - val_acc: 0.9878\n",
      "\n",
      "Epoch 00085: val_loss did not improve from 0.09587\n",
      "Epoch 86/100\n",
      "1725/1725 [==============================] - 0s 220us/step - loss: 0.0190 - acc: 0.9959 - val_loss: 0.1038 - val_acc: 0.9913\n",
      "\n",
      "Epoch 00086: val_loss did not improve from 0.09587\n",
      "Epoch 87/100\n",
      "1725/1725 [==============================] - 0s 245us/step - loss: 0.0151 - acc: 0.9942 - val_loss: 0.1035 - val_acc: 0.9913\n",
      "\n",
      "Epoch 00087: val_loss did not improve from 0.09587\n",
      "Epoch 88/100\n",
      "1725/1725 [==============================] - 0s 223us/step - loss: 0.0125 - acc: 0.9977 - val_loss: 0.1072 - val_acc: 0.9896\n",
      "\n",
      "Epoch 00088: val_loss did not improve from 0.09587\n",
      "Epoch 89/100\n",
      "1725/1725 [==============================] - 0s 243us/step - loss: 0.0130 - acc: 0.9942 - val_loss: 0.1049 - val_acc: 0.9878\n",
      "\n",
      "Epoch 00089: val_loss did not improve from 0.09587\n",
      "Epoch 90/100\n",
      "1725/1725 [==============================] - 0s 229us/step - loss: 0.0105 - acc: 0.9983 - val_loss: 0.1057 - val_acc: 0.9878\n",
      "\n",
      "Epoch 00090: val_loss did not improve from 0.09587\n",
      "Epoch 91/100\n",
      "1725/1725 [==============================] - 0s 233us/step - loss: 0.0132 - acc: 0.9965 - val_loss: 0.1055 - val_acc: 0.9896\n",
      "\n",
      "Epoch 00091: val_loss did not improve from 0.09587\n",
      "Epoch 92/100\n",
      "1725/1725 [==============================] - 0s 236us/step - loss: 0.0146 - acc: 0.9936 - val_loss: 0.1134 - val_acc: 0.9878\n",
      "\n",
      "Epoch 00092: val_loss did not improve from 0.09587\n",
      "Epoch 93/100\n",
      "1725/1725 [==============================] - 0s 235us/step - loss: 0.0107 - acc: 0.9971 - val_loss: 0.1026 - val_acc: 0.9913\n",
      "\n",
      "Epoch 00093: val_loss did not improve from 0.09587\n",
      "Epoch 94/100\n",
      "1725/1725 [==============================] - 0s 220us/step - loss: 0.0150 - acc: 0.9965 - val_loss: 0.1023 - val_acc: 0.9896\n",
      "\n",
      "Epoch 00094: val_loss did not improve from 0.09587\n",
      "Epoch 95/100\n",
      "1725/1725 [==============================] - 0s 224us/step - loss: 0.0130 - acc: 0.9948 - val_loss: 0.1004 - val_acc: 0.9896\n",
      "\n",
      "Epoch 00095: val_loss did not improve from 0.09587\n",
      "Epoch 96/100\n",
      "1725/1725 [==============================] - 0s 228us/step - loss: 0.0118 - acc: 0.9971 - val_loss: 0.1021 - val_acc: 0.9896\n",
      "\n",
      "Epoch 00096: val_loss did not improve from 0.09587\n",
      "Epoch 97/100\n",
      "1725/1725 [==============================] - 0s 232us/step - loss: 0.0140 - acc: 0.9936 - val_loss: 0.1090 - val_acc: 0.9896\n",
      "\n",
      "Epoch 00097: val_loss did not improve from 0.09587\n",
      "Epoch 98/100\n",
      "1725/1725 [==============================] - 0s 231us/step - loss: 0.0145 - acc: 0.9959 - val_loss: 0.1065 - val_acc: 0.9878\n",
      "\n",
      "Epoch 00098: val_loss did not improve from 0.09587\n",
      "Epoch 99/100\n",
      "1725/1725 [==============================] - 0s 238us/step - loss: 0.0151 - acc: 0.9965 - val_loss: 0.1084 - val_acc: 0.9896\n",
      "\n",
      "Epoch 00099: val_loss did not improve from 0.09587\n",
      "Epoch 100/100\n",
      "1725/1725 [==============================] - 0s 235us/step - loss: 0.0161 - acc: 0.9936 - val_loss: 0.1105 - val_acc: 0.9878\n",
      "\n",
      "Epoch 00100: val_loss did not improve from 0.09587\n"
     ]
    }
   ],
   "source": [
    "H = model.fit(x_train, y_train, batch_size=32, validation_data=(x_test, y_test),  \n",
    "              epochs=100, verbose=1, callbacks=callbacks)"
   ]
  },
  {
   "cell_type": "code",
   "execution_count": 33,
   "metadata": {},
   "outputs": [],
   "source": [
    "predictions = model.predict(x_test, batch_size=32)"
   ]
  },
  {
   "cell_type": "code",
   "execution_count": 34,
   "metadata": {},
   "outputs": [
    {
     "name": "stdout",
     "output_type": "stream",
     "text": [
      "             precision    recall  f1-score   support\n",
      "\n",
      "          0       1.00      1.00      1.00        86\n",
      "          1       0.97      0.98      0.98        63\n",
      "          2       1.00      1.00      1.00        75\n",
      "          3       1.00      0.96      0.98        49\n",
      "          4       1.00      0.98      0.99        51\n",
      "          5       0.98      1.00      0.99        43\n",
      "          6       1.00      1.00      1.00        43\n",
      "          7       1.00      1.00      1.00        53\n",
      "          8       0.96      0.98      0.97        53\n",
      "          9       0.97      0.97      0.97        60\n",
      "\n",
      "avg / total       0.99      0.99      0.99       576\n",
      "\n"
     ]
    }
   ],
   "source": [
    "print(classification_report(y_test.argmax(axis=1), predictions.argmax(axis=1), \n",
    "                      target_names=['0', '1', '2', '3', '4', '5', '6', '7', '8', '9']))"
   ]
  },
  {
   "cell_type": "code",
   "execution_count": 35,
   "metadata": {},
   "outputs": [
    {
     "data": {
      "image/png": "[encoded data removed]",
      "text/plain": [
       "<Figure size 432x288 with 1 Axes>"
      ]
     },
     "metadata": {},
     "output_type": "display_data"
    }
   ],
   "source": [
    "plt.style.use(\"ggplot\")\n",
    "plt.figure()\n",
    "plt.plot(np.arange(0, 100), H.history[\"loss\"], label=\"train_loss\")\n",
    "plt.plot(np.arange(0, 100), H.history[\"val_loss\"], label=\"val_loss\")\n",
    "plt.plot(np.arange(0, 100), H.history[\"acc\"], label=\"train_acc\")\n",
    "plt.plot(np.arange(0, 100), H.history[\"val_acc\"], label=\"val_acc\")\n",
    "plt.title(\"Training Loss and Accuracy\")\n",
    "plt.xlabel(\"Epoch #\")\n",
    "plt.ylabel(\"Loss/Accuracy\")\n",
    "plt.legend()\n",
    "plt.show()"
   ]
  },
  {
   "cell_type": "code",
   "execution_count": null,
   "metadata": {},
   "outputs": [],
   "source": []
  }
 ],
 "metadata": {
  "kernelspec": {
   "display_name": "Python 3",
   "language": "python",
   "name": "python3"
  },
  "language_info": {
   "codemirror_mode": {
    "name": "ipython",
    "version": 3
   },
   "file_extension": ".py",
   "mimetype": "text/x-python",
   "name": "python",
   "nbconvert_exporter": "python",
   "pygments_lexer": "ipython3",
   "version": "3.6.5"
  }
 },
 "nbformat": 4,
 "nbformat_minor": 2
}
