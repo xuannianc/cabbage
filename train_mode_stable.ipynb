{
 "cells": [
  {
   "cell_type": "code",
   "execution_count": 1,
   "metadata": {},
   "outputs": [
    {
     "name": "stderr",
     "output_type": "stream",
     "text": [
      "Using TensorFlow backend.\n"
     ]
    }
   ],
   "source": [
    "import keras\n",
    "from sklearn.preprocessing import LabelBinarizer\n",
    "from keras import backend as K\n",
    "from models.lenet_official import LeNet\n",
    "from sklearn.metrics import classification_report\n",
    "import matplotlib.pyplot as plt\n",
    "import numpy as np\n",
    "from dataset_loaders import SimpleDatasetLoader\n",
    "from imutils import paths\n",
    "from sklearn.model_selection import train_test_split\n",
    "from keras.optimizers import SGD\n",
    "from keras.preprocessing.image import ImageDataGenerator"
   ]
  },
  {
   "cell_type": "code",
   "execution_count": 2,
   "metadata": {},
   "outputs": [],
   "source": [
    "sdl = SimpleDatasetLoader()"
   ]
  },
  {
   "cell_type": "code",
   "execution_count": 3,
   "metadata": {},
   "outputs": [],
   "source": [
    "image_paths = list(paths.list_images('./datasets/digits'))"
   ]
  },
  {
   "cell_type": "code",
   "execution_count": 4,
   "metadata": {},
   "outputs": [
    {
     "name": "stdout",
     "output_type": "stream",
     "text": [
      "[INFO] processed 500/2301\n",
      "[INFO] processed 1000/2301\n",
      "[INFO] processed 1500/2301\n",
      "[INFO] processed 2000/2301\n"
     ]
    }
   ],
   "source": [
    "(data, labels) = sdl.load(image_paths, verbose=500)"
   ]
  },
  {
   "cell_type": "code",
   "execution_count": 5,
   "metadata": {},
   "outputs": [],
   "source": [
    "data = data.astype(\"float\") / 255.0"
   ]
  },
  {
   "cell_type": "code",
   "execution_count": 6,
   "metadata": {},
   "outputs": [],
   "source": [
    "(x_train, x_test, y_train, y_test) = train_test_split(data, labels, test_size=0.25, random_state=42)"
   ]
  },
  {
   "cell_type": "code",
   "execution_count": 7,
   "metadata": {},
   "outputs": [
    {
     "data": {
      "text/plain": [
       "((1725, 28, 28), (1725,), (576, 28, 28), (576,))"
      ]
     },
     "execution_count": 7,
     "metadata": {},
     "output_type": "execute_result"
    }
   ],
   "source": [
    "x_train.shape,y_train.shape,x_test.shape,y_test.shape"
   ]
  },
  {
   "cell_type": "code",
   "execution_count": 8,
   "metadata": {},
   "outputs": [],
   "source": [
    "y_train = LabelBinarizer().fit_transform(y_train)"
   ]
  },
  {
   "cell_type": "code",
   "execution_count": 9,
   "metadata": {},
   "outputs": [],
   "source": [
    "y_test = LabelBinarizer().fit_transform(y_test)"
   ]
  },
  {
   "cell_type": "code",
   "execution_count": 10,
   "metadata": {},
   "outputs": [
    {
     "data": {
      "text/plain": [
       "((1725, 28, 28), (1725, 10), (576, 28, 28), (576, 10))"
      ]
     },
     "execution_count": 10,
     "metadata": {},
     "output_type": "execute_result"
    }
   ],
   "source": [
    "x_train.shape,y_train.shape,x_test.shape,y_test.shape"
   ]
  },
  {
   "cell_type": "code",
   "execution_count": 11,
   "metadata": {},
   "outputs": [],
   "source": [
    "x_train = x_train.reshape(x_train.shape[0],28,28,1)"
   ]
  },
  {
   "cell_type": "code",
   "execution_count": 12,
   "metadata": {},
   "outputs": [],
   "source": [
    "x_test = x_test.reshape(x_test.shape[0],28,28,1)"
   ]
  },
  {
   "cell_type": "code",
   "execution_count": 13,
   "metadata": {},
   "outputs": [
    {
     "data": {
      "text/plain": [
       "((1725, 28, 28, 1), (1725, 10), (576, 28, 28, 1), (576, 10))"
      ]
     },
     "execution_count": 13,
     "metadata": {},
     "output_type": "execute_result"
    }
   ],
   "source": [
    "x_train.shape,y_train.shape,x_test.shape,y_test.shape"
   ]
  },
  {
   "cell_type": "code",
   "execution_count": 14,
   "metadata": {},
   "outputs": [],
   "source": [
    "opt = SGD(lr=0.01, decay=0.01 / 100, momentum=0.9, nesterov=True))"
   ]
  },
  {
   "cell_type": "code",
   "execution_count": 15,
   "metadata": {},
   "outputs": [],
   "source": [
    "model = LeNet.build(width=28, height=28, depth=1, num_classes=10)"
   ]
  },
  {
   "cell_type": "code",
   "execution_count": 16,
   "metadata": {},
   "outputs": [],
   "source": [
    "model.compile(loss=\"categorical_crossentropy\", optimizer=opt, metrics=[\"accuracy\"])"
   ]
  },
  {
   "cell_type": "code",
   "execution_count": 17,
   "metadata": {},
   "outputs": [],
   "source": [
    "from keras.callbacks import ModelCheckpoint\n",
    "checkpoint = ModelCheckpoint('models/best_weights.hdf5', monitor=\"val_loss\", save_best_only=True, verbose=1)\n",
    "callbacks = [checkpoint]"
   ]
  },
  {
   "cell_type": "code",
   "execution_count": 18,
   "metadata": {},
   "outputs": [],
   "source": [
    "aug = ImageDataGenerator(rotation_range=30, width_shift_range=0.1,height_shift_range=0.1, shear_range=0.2, \n",
    "                         zoom_range=0.2,horizontal_flip=True, fill_mode=\"nearest\")"
   ]
  },
  {
   "cell_type": "code",
   "execution_count": 19,
   "metadata": {},
   "outputs": [
    {
     "name": "stdout",
     "output_type": "stream",
     "text": [
      "Epoch 1/100\n",
      "54/53 [==============================] - 2s 29ms/step - loss: 2.3148 - acc: 0.1118 - val_loss: 2.2840 - val_acc: 0.1493\n",
      "\n",
      "Epoch 00001: val_loss improved from inf to 2.28396, saving model to models/best_weights.hdf5\n",
      "Epoch 2/100\n",
      "54/53 [==============================] - 0s 7ms/step - loss: 2.2953 - acc: 0.1484 - val_loss: 2.2818 - val_acc: 0.1493\n",
      "\n",
      "Epoch 00002: val_loss improved from 2.28396 to 2.28183, saving model to models/best_weights.hdf5\n",
      "Epoch 3/100\n",
      "54/53 [==============================] - 0s 8ms/step - loss: 2.2860 - acc: 0.1550 - val_loss: 2.2801 - val_acc: 0.1493\n",
      "\n",
      "Epoch 00003: val_loss improved from 2.28183 to 2.28006, saving model to models/best_weights.hdf5\n",
      "Epoch 4/100\n",
      "54/53 [==============================] - 0s 8ms/step - loss: 2.2884 - acc: 0.1560 - val_loss: 2.2810 - val_acc: 0.1493\n",
      "\n",
      "Epoch 00004: val_loss did not improve from 2.28006\n",
      "Epoch 5/100\n",
      "54/53 [==============================] - 0s 8ms/step - loss: 2.2912 - acc: 0.1578 - val_loss: 2.2797 - val_acc: 0.1493\n",
      "\n",
      "Epoch 00005: val_loss improved from 2.28006 to 2.27968, saving model to models/best_weights.hdf5\n",
      "Epoch 6/100\n",
      "54/53 [==============================] - 0s 7ms/step - loss: 2.2829 - acc: 0.1534 - val_loss: 2.2773 - val_acc: 0.1493\n",
      "\n",
      "Epoch 00006: val_loss improved from 2.27968 to 2.27732, saving model to models/best_weights.hdf5\n",
      "Epoch 7/100\n",
      "54/53 [==============================] - 0s 7ms/step - loss: 2.2868 - acc: 0.1535 - val_loss: 2.2772 - val_acc: 0.1493\n",
      "\n",
      "Epoch 00007: val_loss improved from 2.27732 to 2.27718, saving model to models/best_weights.hdf5\n",
      "Epoch 8/100\n",
      "54/53 [==============================] - 0s 8ms/step - loss: 2.2830 - acc: 0.1525 - val_loss: 2.2746 - val_acc: 0.1493\n",
      "\n",
      "Epoch 00008: val_loss improved from 2.27718 to 2.27455, saving model to models/best_weights.hdf5\n",
      "Epoch 9/100\n",
      "54/53 [==============================] - 0s 7ms/step - loss: 2.2809 - acc: 0.1586 - val_loss: 2.2722 - val_acc: 0.1493\n",
      "\n",
      "Epoch 00009: val_loss improved from 2.27455 to 2.27223, saving model to models/best_weights.hdf5\n",
      "Epoch 10/100\n",
      "54/53 [==============================] - 0s 8ms/step - loss: 2.2801 - acc: 0.1614 - val_loss: 2.2708 - val_acc: 0.1493\n",
      "\n",
      "Epoch 00010: val_loss improved from 2.27223 to 2.27077, saving model to models/best_weights.hdf5\n",
      "Epoch 11/100\n",
      "54/53 [==============================] - 0s 8ms/step - loss: 2.2811 - acc: 0.1578 - val_loss: 2.2699 - val_acc: 0.1493\n",
      "\n",
      "Epoch 00011: val_loss improved from 2.27077 to 2.26992, saving model to models/best_weights.hdf5\n",
      "Epoch 12/100\n",
      "54/53 [==============================] - 0s 8ms/step - loss: 2.2822 - acc: 0.1527 - val_loss: 2.2684 - val_acc: 0.1493\n",
      "\n",
      "Epoch 00012: val_loss improved from 2.26992 to 2.26843, saving model to models/best_weights.hdf5\n",
      "Epoch 13/100\n",
      "54/53 [==============================] - 0s 8ms/step - loss: 2.2792 - acc: 0.1560 - val_loss: 2.2645 - val_acc: 0.1493\n",
      "\n",
      "Epoch 00013: val_loss improved from 2.26843 to 2.26454, saving model to models/best_weights.hdf5\n",
      "Epoch 14/100\n",
      "54/53 [==============================] - 0s 8ms/step - loss: 2.2805 - acc: 0.1583 - val_loss: 2.2636 - val_acc: 0.1493\n",
      "\n",
      "Epoch 00014: val_loss improved from 2.26454 to 2.26364, saving model to models/best_weights.hdf5\n",
      "Epoch 15/100\n",
      "54/53 [==============================] - 0s 8ms/step - loss: 2.2785 - acc: 0.1570 - val_loss: 2.2628 - val_acc: 0.1493\n",
      "\n",
      "Epoch 00015: val_loss improved from 2.26364 to 2.26279, saving model to models/best_weights.hdf5\n",
      "Epoch 16/100\n",
      "54/53 [==============================] - 0s 8ms/step - loss: 2.2772 - acc: 0.1593 - val_loss: 2.2597 - val_acc: 0.1493\n",
      "\n",
      "Epoch 00016: val_loss improved from 2.26279 to 2.25965, saving model to models/best_weights.hdf5\n",
      "Epoch 17/100\n",
      "54/53 [==============================] - 0s 7ms/step - loss: 2.2725 - acc: 0.1526 - val_loss: 2.2563 - val_acc: 0.1493\n",
      "\n",
      "Epoch 00017: val_loss improved from 2.25965 to 2.25630, saving model to models/best_weights.hdf5\n",
      "Epoch 18/100\n",
      "54/53 [==============================] - 0s 8ms/step - loss: 2.2702 - acc: 0.1616 - val_loss: 2.2525 - val_acc: 0.1493\n",
      "\n",
      "Epoch 00018: val_loss improved from 2.25630 to 2.25252, saving model to models/best_weights.hdf5\n",
      "Epoch 19/100\n",
      "54/53 [==============================] - 0s 8ms/step - loss: 2.2712 - acc: 0.1596 - val_loss: 2.2484 - val_acc: 0.1493\n",
      "\n",
      "Epoch 00019: val_loss improved from 2.25252 to 2.24839, saving model to models/best_weights.hdf5\n",
      "Epoch 20/100\n",
      "54/53 [==============================] - 0s 8ms/step - loss: 2.2700 - acc: 0.1597 - val_loss: 2.2448 - val_acc: 0.1493\n",
      "\n",
      "Epoch 00020: val_loss improved from 2.24839 to 2.24478, saving model to models/best_weights.hdf5\n",
      "Epoch 21/100\n",
      "54/53 [==============================] - 0s 7ms/step - loss: 2.2709 - acc: 0.1645 - val_loss: 2.2408 - val_acc: 0.1493\n",
      "\n",
      "Epoch 00021: val_loss improved from 2.24478 to 2.24083, saving model to models/best_weights.hdf5\n",
      "Epoch 22/100\n",
      "54/53 [==============================] - 0s 8ms/step - loss: 2.2612 - acc: 0.1788 - val_loss: 2.2346 - val_acc: 0.1493\n",
      "\n",
      "Epoch 00022: val_loss improved from 2.24083 to 2.23463, saving model to models/best_weights.hdf5\n",
      "Epoch 23/100\n",
      "54/53 [==============================] - 0s 8ms/step - loss: 2.2608 - acc: 0.1752 - val_loss: 2.2265 - val_acc: 0.1493\n",
      "\n",
      "Epoch 00023: val_loss improved from 2.23463 to 2.22649, saving model to models/best_weights.hdf5\n",
      "Epoch 24/100\n",
      "54/53 [==============================] - 0s 7ms/step - loss: 2.2595 - acc: 0.1727 - val_loss: 2.2203 - val_acc: 0.1493\n",
      "\n",
      "Epoch 00024: val_loss improved from 2.22649 to 2.22032, saving model to models/best_weights.hdf5\n",
      "Epoch 25/100\n",
      "54/53 [==============================] - 0s 8ms/step - loss: 2.2540 - acc: 0.1690 - val_loss: 2.2157 - val_acc: 0.1493\n",
      "\n",
      "Epoch 00025: val_loss improved from 2.22032 to 2.21574, saving model to models/best_weights.hdf5\n",
      "Epoch 26/100\n",
      "54/53 [==============================] - 0s 8ms/step - loss: 2.2486 - acc: 0.1739 - val_loss: 2.2041 - val_acc: 0.2274\n",
      "\n",
      "Epoch 00026: val_loss improved from 2.21574 to 2.20408, saving model to models/best_weights.hdf5\n",
      "Epoch 27/100\n",
      "54/53 [==============================] - 0s 7ms/step - loss: 2.2395 - acc: 0.1895 - val_loss: 2.1925 - val_acc: 0.2222\n",
      "\n",
      "Epoch 00027: val_loss improved from 2.20408 to 2.19250, saving model to models/best_weights.hdf5\n",
      "Epoch 28/100\n",
      "54/53 [==============================] - 0s 7ms/step - loss: 2.2357 - acc: 0.1913 - val_loss: 2.1802 - val_acc: 0.1562\n",
      "\n",
      "Epoch 00028: val_loss improved from 2.19250 to 2.18016, saving model to models/best_weights.hdf5\n",
      "Epoch 29/100\n",
      "54/53 [==============================] - 0s 7ms/step - loss: 2.2396 - acc: 0.1814 - val_loss: 2.1748 - val_acc: 0.2882\n",
      "\n",
      "Epoch 00029: val_loss improved from 2.18016 to 2.17477, saving model to models/best_weights.hdf5\n",
      "Epoch 30/100\n",
      "54/53 [==============================] - 0s 8ms/step - loss: 2.2245 - acc: 0.2092 - val_loss: 2.1480 - val_acc: 0.3229\n",
      "\n",
      "Epoch 00030: val_loss improved from 2.17477 to 2.14803, saving model to models/best_weights.hdf5\n",
      "Epoch 31/100\n",
      "54/53 [==============================] - 0s 8ms/step - loss: 2.2188 - acc: 0.2062 - val_loss: 2.1395 - val_acc: 0.3090\n",
      "\n",
      "Epoch 00031: val_loss improved from 2.14803 to 2.13949, saving model to models/best_weights.hdf5\n",
      "Epoch 32/100\n",
      "54/53 [==============================] - 0s 8ms/step - loss: 2.2141 - acc: 0.2186 - val_loss: 2.1207 - val_acc: 0.2882\n",
      "\n",
      "Epoch 00032: val_loss improved from 2.13949 to 2.12074, saving model to models/best_weights.hdf5\n",
      "Epoch 33/100\n",
      "54/53 [==============================] - 0s 8ms/step - loss: 2.2032 - acc: 0.2079 - val_loss: 2.0991 - val_acc: 0.2986\n",
      "\n",
      "Epoch 00033: val_loss improved from 2.12074 to 2.09911, saving model to models/best_weights.hdf5\n",
      "Epoch 34/100\n",
      "54/53 [==============================] - 0s 8ms/step - loss: 2.1906 - acc: 0.2248 - val_loss: 2.0862 - val_acc: 0.3125\n",
      "\n",
      "Epoch 00034: val_loss improved from 2.09911 to 2.08623, saving model to models/best_weights.hdf5\n",
      "Epoch 35/100\n",
      "54/53 [==============================] - 0s 8ms/step - loss: 2.1774 - acc: 0.2310 - val_loss: 2.0481 - val_acc: 0.3108\n",
      "\n",
      "Epoch 00035: val_loss improved from 2.08623 to 2.04815, saving model to models/best_weights.hdf5\n",
      "Epoch 36/100\n",
      "54/53 [==============================] - 0s 8ms/step - loss: 2.1669 - acc: 0.2214 - val_loss: 2.0342 - val_acc: 0.3594\n",
      "\n",
      "Epoch 00036: val_loss improved from 2.04815 to 2.03416, saving model to models/best_weights.hdf5\n"
     ]
    },
    {
     "name": "stdout",
     "output_type": "stream",
     "text": [
      "Epoch 37/100\n",
      "54/53 [==============================] - 0s 7ms/step - loss: 2.1572 - acc: 0.2387 - val_loss: 2.0239 - val_acc: 0.3681\n",
      "\n",
      "Epoch 00037: val_loss improved from 2.03416 to 2.02388, saving model to models/best_weights.hdf5\n",
      "Epoch 38/100\n",
      "54/53 [==============================] - 0s 8ms/step - loss: 2.1325 - acc: 0.2462 - val_loss: 1.9673 - val_acc: 0.3472\n",
      "\n",
      "Epoch 00038: val_loss improved from 2.02388 to 1.96732, saving model to models/best_weights.hdf5\n",
      "Epoch 39/100\n",
      "54/53 [==============================] - 0s 8ms/step - loss: 2.1267 - acc: 0.2457 - val_loss: 1.9459 - val_acc: 0.4167\n",
      "\n",
      "Epoch 00039: val_loss improved from 1.96732 to 1.94593, saving model to models/best_weights.hdf5\n",
      "Epoch 40/100\n",
      "54/53 [==============================] - 0s 8ms/step - loss: 2.1091 - acc: 0.2441 - val_loss: 1.9001 - val_acc: 0.3733\n",
      "\n",
      "Epoch 00040: val_loss improved from 1.94593 to 1.90012, saving model to models/best_weights.hdf5\n",
      "Epoch 41/100\n",
      "54/53 [==============================] - 0s 7ms/step - loss: 2.0825 - acc: 0.2763 - val_loss: 1.8960 - val_acc: 0.4427\n",
      "\n",
      "Epoch 00041: val_loss improved from 1.90012 to 1.89598, saving model to models/best_weights.hdf5\n",
      "Epoch 42/100\n",
      "54/53 [==============================] - 0s 8ms/step - loss: 2.0718 - acc: 0.2692 - val_loss: 1.8462 - val_acc: 0.3559\n",
      "\n",
      "Epoch 00042: val_loss improved from 1.89598 to 1.84618, saving model to models/best_weights.hdf5\n",
      "Epoch 43/100\n",
      "54/53 [==============================] - 0s 7ms/step - loss: 2.0562 - acc: 0.2827 - val_loss: 1.8270 - val_acc: 0.4115\n",
      "\n",
      "Epoch 00043: val_loss improved from 1.84618 to 1.82703, saving model to models/best_weights.hdf5\n",
      "Epoch 44/100\n",
      "54/53 [==============================] - 0s 7ms/step - loss: 2.0355 - acc: 0.2920 - val_loss: 1.7742 - val_acc: 0.4531\n",
      "\n",
      "Epoch 00044: val_loss improved from 1.82703 to 1.77416, saving model to models/best_weights.hdf5\n",
      "Epoch 45/100\n",
      "54/53 [==============================] - 0s 8ms/step - loss: 2.0191 - acc: 0.3026 - val_loss: 1.7502 - val_acc: 0.4913\n",
      "\n",
      "Epoch 00045: val_loss improved from 1.77416 to 1.75021, saving model to models/best_weights.hdf5\n",
      "Epoch 46/100\n",
      "54/53 [==============================] - 0s 7ms/step - loss: 2.0033 - acc: 0.2921 - val_loss: 1.7311 - val_acc: 0.4427\n",
      "\n",
      "Epoch 00046: val_loss improved from 1.75021 to 1.73114, saving model to models/best_weights.hdf5\n",
      "Epoch 47/100\n",
      "54/53 [==============================] - 0s 7ms/step - loss: 1.9659 - acc: 0.3262 - val_loss: 1.6718 - val_acc: 0.4774\n",
      "\n",
      "Epoch 00047: val_loss improved from 1.73114 to 1.67185, saving model to models/best_weights.hdf5\n",
      "Epoch 48/100\n",
      "54/53 [==============================] - 0s 7ms/step - loss: 1.9557 - acc: 0.3200 - val_loss: 1.6520 - val_acc: 0.4913\n",
      "\n",
      "Epoch 00048: val_loss improved from 1.67185 to 1.65198, saving model to models/best_weights.hdf5\n",
      "Epoch 49/100\n",
      "54/53 [==============================] - 0s 7ms/step - loss: 1.9423 - acc: 0.3327 - val_loss: 1.5940 - val_acc: 0.5226\n",
      "\n",
      "Epoch 00049: val_loss improved from 1.65198 to 1.59404, saving model to models/best_weights.hdf5\n",
      "Epoch 50/100\n",
      "54/53 [==============================] - 0s 8ms/step - loss: 1.9263 - acc: 0.3276 - val_loss: 1.5692 - val_acc: 0.5625\n",
      "\n",
      "Epoch 00050: val_loss improved from 1.59404 to 1.56915, saving model to models/best_weights.hdf5\n",
      "Epoch 51/100\n",
      "54/53 [==============================] - 0s 8ms/step - loss: 1.9164 - acc: 0.3255 - val_loss: 1.5394 - val_acc: 0.5781\n",
      "\n",
      "Epoch 00051: val_loss improved from 1.56915 to 1.53944, saving model to models/best_weights.hdf5\n",
      "Epoch 52/100\n",
      "54/53 [==============================] - 0s 8ms/step - loss: 1.8756 - acc: 0.3353 - val_loss: 1.5194 - val_acc: 0.5104\n",
      "\n",
      "Epoch 00052: val_loss improved from 1.53944 to 1.51944, saving model to models/best_weights.hdf5\n",
      "Epoch 53/100\n",
      "54/53 [==============================] - 0s 7ms/step - loss: 1.8831 - acc: 0.3448 - val_loss: 1.4962 - val_acc: 0.5573\n",
      "\n",
      "Epoch 00053: val_loss improved from 1.51944 to 1.49619, saving model to models/best_weights.hdf5\n",
      "Epoch 54/100\n",
      "54/53 [==============================] - 0s 8ms/step - loss: 1.8629 - acc: 0.3530 - val_loss: 1.4630 - val_acc: 0.5434\n",
      "\n",
      "Epoch 00054: val_loss improved from 1.49619 to 1.46301, saving model to models/best_weights.hdf5\n",
      "Epoch 55/100\n",
      "54/53 [==============================] - 0s 8ms/step - loss: 1.8436 - acc: 0.3512 - val_loss: 1.4328 - val_acc: 0.5694\n",
      "\n",
      "Epoch 00055: val_loss improved from 1.46301 to 1.43280, saving model to models/best_weights.hdf5\n",
      "Epoch 56/100\n",
      "54/53 [==============================] - 0s 8ms/step - loss: 1.8077 - acc: 0.3746 - val_loss: 1.3822 - val_acc: 0.5642\n",
      "\n",
      "Epoch 00056: val_loss improved from 1.43280 to 1.38219, saving model to models/best_weights.hdf5\n",
      "Epoch 57/100\n",
      "54/53 [==============================] - 0s 7ms/step - loss: 1.7881 - acc: 0.3823 - val_loss: 1.3666 - val_acc: 0.6441\n",
      "\n",
      "Epoch 00057: val_loss improved from 1.38219 to 1.36665, saving model to models/best_weights.hdf5\n",
      "Epoch 58/100\n",
      "54/53 [==============================] - 0s 8ms/step - loss: 1.8041 - acc: 0.3661 - val_loss: 1.3450 - val_acc: 0.5625\n",
      "\n",
      "Epoch 00058: val_loss improved from 1.36665 to 1.34497, saving model to models/best_weights.hdf5\n",
      "Epoch 59/100\n",
      "54/53 [==============================] - 0s 8ms/step - loss: 1.7745 - acc: 0.3699 - val_loss: 1.3239 - val_acc: 0.6319\n",
      "\n",
      "Epoch 00059: val_loss improved from 1.34497 to 1.32386, saving model to models/best_weights.hdf5\n",
      "Epoch 60/100\n",
      "54/53 [==============================] - 0s 8ms/step - loss: 1.7852 - acc: 0.3720 - val_loss: 1.3076 - val_acc: 0.5938\n",
      "\n",
      "Epoch 00060: val_loss improved from 1.32386 to 1.30757, saving model to models/best_weights.hdf5\n",
      "Epoch 61/100\n",
      "54/53 [==============================] - 0s 8ms/step - loss: 1.7876 - acc: 0.3512 - val_loss: 1.2956 - val_acc: 0.6233\n",
      "\n",
      "Epoch 00061: val_loss improved from 1.30757 to 1.29556, saving model to models/best_weights.hdf5\n",
      "Epoch 62/100\n",
      "54/53 [==============================] - 0s 8ms/step - loss: 1.7411 - acc: 0.4043 - val_loss: 1.2979 - val_acc: 0.6562\n",
      "\n",
      "Epoch 00062: val_loss did not improve from 1.29556\n",
      "Epoch 63/100\n",
      "54/53 [==============================] - 0s 7ms/step - loss: 1.7358 - acc: 0.4034 - val_loss: 1.2212 - val_acc: 0.6684\n",
      "\n",
      "Epoch 00063: val_loss improved from 1.29556 to 1.22123, saving model to models/best_weights.hdf5\n",
      "Epoch 64/100\n",
      "54/53 [==============================] - 0s 7ms/step - loss: 1.6793 - acc: 0.4064 - val_loss: 1.1956 - val_acc: 0.6146\n",
      "\n",
      "Epoch 00064: val_loss improved from 1.22123 to 1.19557, saving model to models/best_weights.hdf5\n",
      "Epoch 65/100\n",
      "54/53 [==============================] - 0s 8ms/step - loss: 1.6959 - acc: 0.4227 - val_loss: 1.1935 - val_acc: 0.6042\n",
      "\n",
      "Epoch 00065: val_loss improved from 1.19557 to 1.19347, saving model to models/best_weights.hdf5\n",
      "Epoch 66/100\n",
      "54/53 [==============================] - 0s 8ms/step - loss: 1.6717 - acc: 0.4203 - val_loss: 1.1583 - val_acc: 0.6806\n",
      "\n",
      "Epoch 00066: val_loss improved from 1.19347 to 1.15828, saving model to models/best_weights.hdf5\n",
      "Epoch 67/100\n",
      "54/53 [==============================] - 0s 8ms/step - loss: 1.6691 - acc: 0.4189 - val_loss: 1.1690 - val_acc: 0.6910\n",
      "\n",
      "Epoch 00067: val_loss did not improve from 1.15828\n",
      "Epoch 68/100\n",
      "54/53 [==============================] - 0s 8ms/step - loss: 1.6287 - acc: 0.4361 - val_loss: 1.1530 - val_acc: 0.6667\n",
      "\n",
      "Epoch 00068: val_loss improved from 1.15828 to 1.15297, saving model to models/best_weights.hdf5\n",
      "Epoch 69/100\n",
      "54/53 [==============================] - 0s 8ms/step - loss: 1.6157 - acc: 0.4429 - val_loss: 1.0867 - val_acc: 0.6962\n",
      "\n",
      "Epoch 00069: val_loss improved from 1.15297 to 1.08672, saving model to models/best_weights.hdf5\n",
      "Epoch 70/100\n",
      "54/53 [==============================] - 0s 8ms/step - loss: 1.5896 - acc: 0.4283 - val_loss: 1.0761 - val_acc: 0.7292\n",
      "\n",
      "Epoch 00070: val_loss improved from 1.08672 to 1.07612, saving model to models/best_weights.hdf5\n",
      "Epoch 71/100\n",
      "54/53 [==============================] - 0s 8ms/step - loss: 1.5858 - acc: 0.4590 - val_loss: 1.0649 - val_acc: 0.7101\n",
      "\n",
      "Epoch 00071: val_loss improved from 1.07612 to 1.06490, saving model to models/best_weights.hdf5\n",
      "Epoch 72/100\n",
      "54/53 [==============================] - 0s 8ms/step - loss: 1.5530 - acc: 0.4581 - val_loss: 1.0736 - val_acc: 0.6979\n",
      "\n",
      "Epoch 00072: val_loss did not improve from 1.06490\n",
      "Epoch 73/100\n"
     ]
    },
    {
     "name": "stdout",
     "output_type": "stream",
     "text": [
      "54/53 [==============================] - 0s 8ms/step - loss: 1.5710 - acc: 0.4567 - val_loss: 1.0821 - val_acc: 0.7101\n",
      "\n",
      "Epoch 00073: val_loss did not improve from 1.06490\n",
      "Epoch 74/100\n",
      "54/53 [==============================] - 0s 7ms/step - loss: 1.5041 - acc: 0.4764 - val_loss: 0.9839 - val_acc: 0.7812\n",
      "\n",
      "Epoch 00074: val_loss improved from 1.06490 to 0.98386, saving model to models/best_weights.hdf5\n",
      "Epoch 75/100\n",
      "54/53 [==============================] - 0s 8ms/step - loss: 1.5193 - acc: 0.4837 - val_loss: 1.0285 - val_acc: 0.7066\n",
      "\n",
      "Epoch 00075: val_loss did not improve from 0.98386\n",
      "Epoch 76/100\n",
      "54/53 [==============================] - 0s 8ms/step - loss: 1.4888 - acc: 0.4720 - val_loss: 0.9314 - val_acc: 0.7691\n",
      "\n",
      "Epoch 00076: val_loss improved from 0.98386 to 0.93143, saving model to models/best_weights.hdf5\n",
      "Epoch 77/100\n",
      "54/53 [==============================] - 0s 8ms/step - loss: 1.4706 - acc: 0.5032 - val_loss: 1.0206 - val_acc: 0.7031\n",
      "\n",
      "Epoch 00077: val_loss did not improve from 0.93143\n",
      "Epoch 78/100\n",
      "54/53 [==============================] - 0s 8ms/step - loss: 1.5016 - acc: 0.4715 - val_loss: 0.9492 - val_acc: 0.7847\n",
      "\n",
      "Epoch 00078: val_loss did not improve from 0.93143\n",
      "Epoch 79/100\n",
      "54/53 [==============================] - 0s 8ms/step - loss: 1.4500 - acc: 0.4883 - val_loss: 0.8926 - val_acc: 0.7917\n",
      "\n",
      "Epoch 00079: val_loss improved from 0.93143 to 0.89256, saving model to models/best_weights.hdf5\n",
      "Epoch 80/100\n",
      "54/53 [==============================] - 0s 7ms/step - loss: 1.4506 - acc: 0.4930 - val_loss: 0.8993 - val_acc: 0.7986\n",
      "\n",
      "Epoch 00080: val_loss did not improve from 0.89256\n",
      "Epoch 81/100\n",
      "54/53 [==============================] - 0s 8ms/step - loss: 1.4188 - acc: 0.5026 - val_loss: 0.8905 - val_acc: 0.7396\n",
      "\n",
      "Epoch 00081: val_loss improved from 0.89256 to 0.89050, saving model to models/best_weights.hdf5\n",
      "Epoch 82/100\n",
      "54/53 [==============================] - 0s 8ms/step - loss: 1.3609 - acc: 0.5187 - val_loss: 0.8432 - val_acc: 0.8021\n",
      "\n",
      "Epoch 00082: val_loss improved from 0.89050 to 0.84321, saving model to models/best_weights.hdf5\n",
      "Epoch 83/100\n",
      "54/53 [==============================] - 0s 7ms/step - loss: 1.3895 - acc: 0.5177 - val_loss: 0.8499 - val_acc: 0.7917\n",
      "\n",
      "Epoch 00083: val_loss did not improve from 0.84321\n",
      "Epoch 84/100\n",
      "54/53 [==============================] - 0s 8ms/step - loss: 1.3764 - acc: 0.5281 - val_loss: 0.8018 - val_acc: 0.7934\n",
      "\n",
      "Epoch 00084: val_loss improved from 0.84321 to 0.80182, saving model to models/best_weights.hdf5\n",
      "Epoch 85/100\n",
      "54/53 [==============================] - 0s 8ms/step - loss: 1.3091 - acc: 0.5335 - val_loss: 0.7952 - val_acc: 0.7934\n",
      "\n",
      "Epoch 00085: val_loss improved from 0.80182 to 0.79523, saving model to models/best_weights.hdf5\n",
      "Epoch 86/100\n",
      "54/53 [==============================] - 0s 8ms/step - loss: 1.3357 - acc: 0.5418 - val_loss: 0.8030 - val_acc: 0.7760\n",
      "\n",
      "Epoch 00086: val_loss did not improve from 0.79523\n",
      "Epoch 87/100\n",
      "54/53 [==============================] - 0s 8ms/step - loss: 1.3211 - acc: 0.5473 - val_loss: 0.7310 - val_acc: 0.8438\n",
      "\n",
      "Epoch 00087: val_loss improved from 0.79523 to 0.73100, saving model to models/best_weights.hdf5\n",
      "Epoch 88/100\n",
      "54/53 [==============================] - 0s 8ms/step - loss: 1.2872 - acc: 0.5498 - val_loss: 0.7193 - val_acc: 0.8559\n",
      "\n",
      "Epoch 00088: val_loss improved from 0.73100 to 0.71932, saving model to models/best_weights.hdf5\n",
      "Epoch 89/100\n",
      "54/53 [==============================] - 0s 7ms/step - loss: 1.2421 - acc: 0.5716 - val_loss: 0.7147 - val_acc: 0.8490\n",
      "\n",
      "Epoch 00089: val_loss improved from 0.71932 to 0.71468, saving model to models/best_weights.hdf5\n",
      "Epoch 90/100\n",
      "54/53 [==============================] - 0s 8ms/step - loss: 1.2990 - acc: 0.5508 - val_loss: 0.6957 - val_acc: 0.8090\n",
      "\n",
      "Epoch 00090: val_loss improved from 0.71468 to 0.69575, saving model to models/best_weights.hdf5\n",
      "Epoch 91/100\n",
      "54/53 [==============================] - 0s 8ms/step - loss: 1.2745 - acc: 0.5598 - val_loss: 0.7121 - val_acc: 0.8559\n",
      "\n",
      "Epoch 00091: val_loss did not improve from 0.69575\n",
      "Epoch 92/100\n",
      "54/53 [==============================] - 0s 8ms/step - loss: 1.2544 - acc: 0.5537 - val_loss: 0.6811 - val_acc: 0.8247\n",
      "\n",
      "Epoch 00092: val_loss improved from 0.69575 to 0.68114, saving model to models/best_weights.hdf5\n",
      "Epoch 93/100\n",
      "54/53 [==============================] - 0s 7ms/step - loss: 1.2254 - acc: 0.5878 - val_loss: 0.6473 - val_acc: 0.8472\n",
      "\n",
      "Epoch 00093: val_loss improved from 0.68114 to 0.64734, saving model to models/best_weights.hdf5\n",
      "Epoch 94/100\n",
      "54/53 [==============================] - 0s 8ms/step - loss: 1.2224 - acc: 0.5731 - val_loss: 0.6398 - val_acc: 0.8698\n",
      "\n",
      "Epoch 00094: val_loss improved from 0.64734 to 0.63980, saving model to models/best_weights.hdf5\n",
      "Epoch 95/100\n",
      "54/53 [==============================] - 0s 8ms/step - loss: 1.2158 - acc: 0.5713 - val_loss: 0.6334 - val_acc: 0.8663\n",
      "\n",
      "Epoch 00095: val_loss improved from 0.63980 to 0.63344, saving model to models/best_weights.hdf5\n",
      "Epoch 96/100\n",
      "54/53 [==============================] - 0s 7ms/step - loss: 1.1686 - acc: 0.5967 - val_loss: 0.6243 - val_acc: 0.8594\n",
      "\n",
      "Epoch 00096: val_loss improved from 0.63344 to 0.62426, saving model to models/best_weights.hdf5\n",
      "Epoch 97/100\n",
      "54/53 [==============================] - 0s 7ms/step - loss: 1.1597 - acc: 0.6029 - val_loss: 0.5739 - val_acc: 0.8663\n",
      "\n",
      "Epoch 00097: val_loss improved from 0.62426 to 0.57391, saving model to models/best_weights.hdf5\n",
      "Epoch 98/100\n",
      "54/53 [==============================] - 0s 8ms/step - loss: 1.1532 - acc: 0.6127 - val_loss: 0.6140 - val_acc: 0.8542\n",
      "\n",
      "Epoch 00098: val_loss did not improve from 0.57391\n",
      "Epoch 99/100\n",
      "54/53 [==============================] - 0s 8ms/step - loss: 1.1390 - acc: 0.6074 - val_loss: 0.5893 - val_acc: 0.8854\n",
      "\n",
      "Epoch 00099: val_loss did not improve from 0.57391\n",
      "Epoch 100/100\n",
      "54/53 [==============================] - 0s 8ms/step - loss: 1.1223 - acc: 0.6076 - val_loss: 0.5612 - val_acc: 0.8976\n",
      "\n",
      "Epoch 00100: val_loss improved from 0.57391 to 0.56117, saving model to models/best_weights.hdf5\n"
     ]
    }
   ],
   "source": [
    "H = model.fit_generator(aug.flow(x_train, y_train, batch_size=32), validation_data=(x_test, y_test), \n",
    "                        steps_per_epoch=len(x_train)/32, epochs=100, \n",
    "                        verbose=1, callbacks=callbacks)"
   ]
  },
  {
   "cell_type": "code",
   "execution_count": 20,
   "metadata": {},
   "outputs": [],
   "source": [
    "predictions = model.predict(x_test, batch_size=32)"
   ]
  },
  {
   "cell_type": "code",
   "execution_count": 21,
   "metadata": {},
   "outputs": [
    {
     "name": "stdout",
     "output_type": "stream",
     "text": [
      "             precision    recall  f1-score   support\n",
      "\n",
      "          0       0.96      1.00      0.98        86\n",
      "          1       1.00      0.83      0.90        63\n",
      "          2       0.75      0.99      0.85        75\n",
      "          3       0.86      0.78      0.82        49\n",
      "          4       1.00      1.00      1.00        51\n",
      "          5       1.00      0.56      0.72        43\n",
      "          6       0.88      0.88      0.88        43\n",
      "          7       0.82      1.00      0.90        53\n",
      "          8       0.91      0.96      0.94        53\n",
      "          9       0.96      0.83      0.89        60\n",
      "\n",
      "avg / total       0.91      0.90      0.89       576\n",
      "\n"
     ]
    }
   ],
   "source": [
    "print(classification_report(y_test.argmax(axis=1), predictions.argmax(axis=1), \n",
    "                      target_names=['0', '1', '2', '3', '4', '5', '6', '7', '8', '9']))"
   ]
  },
  {
   "cell_type": "code",
   "execution_count": 22,
   "metadata": {},
   "outputs": [
    {
     "data": {
      "image/png": "[encoded data removed]",
      "text/plain": [
       "<Figure size 432x288 with 1 Axes>"
      ]
     },
     "metadata": {},
     "output_type": "display_data"
    }
   ],
   "source": [
    "plt.style.use(\"ggplot\")\n",
    "plt.figure()\n",
    "plt.plot(np.arange(0, 100), H.history[\"loss\"], label=\"train_loss\")\n",
    "plt.plot(np.arange(0, 100), H.history[\"val_loss\"], label=\"val_loss\")\n",
    "plt.plot(np.arange(0, 100), H.history[\"acc\"], label=\"train_acc\")\n",
    "plt.plot(np.arange(0, 100), H.history[\"val_acc\"], label=\"val_acc\")\n",
    "plt.title(\"Training Loss and Accuracy\")\n",
    "plt.xlabel(\"Epoch #\")\n",
    "plt.ylabel(\"Loss/Accuracy\")\n",
    "plt.legend()\n",
    "plt.show()"
   ]
  },
  {
   "cell_type": "code",
   "execution_count": null,
   "metadata": {},
   "outputs": [],
   "source": []
  }
 ],
 "metadata": {
  "kernelspec": {
   "display_name": "Python 3",
   "language": "python",
   "name": "python3"
  },
  "language_info": {
   "codemirror_mode": {
    "name": "ipython",
    "version": 3
   },
   "file_extension": ".py",
   "mimetype": "text/x-python",
   "name": "python",
   "nbconvert_exporter": "python",
   "pygments_lexer": "ipython3",
   "version": "3.6.5"
  }
 },
 "nbformat": 4,
 "nbformat_minor": 2
}
