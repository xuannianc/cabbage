{
 "cells": [
  {
   "cell_type": "code",
   "execution_count": 1,
   "metadata": {},
   "outputs": [
    {
     "name": "stderr",
     "output_type": "stream",
     "text": [
      "Using TensorFlow backend.\n"
     ]
    }
   ],
   "source": [
    "import keras\n",
    "from sklearn.preprocessing import LabelBinarizer\n",
    "from keras import backend as K\n",
    "from models.lenet_official import LeNet\n",
    "from sklearn.metrics import classification_report\n",
    "import matplotlib.pyplot as plt\n",
    "import numpy as np\n",
    "from dataset_loaders import SimpleDatasetLoader\n",
    "from imutils import paths\n",
    "from sklearn.model_selection import train_test_split\n",
    "from keras.optimizers import SGD"
   ]
  },
  {
   "cell_type": "code",
   "execution_count": 2,
   "metadata": {},
   "outputs": [],
   "source": [
    "sdl = SimpleDatasetLoader()"
   ]
  },
  {
   "cell_type": "code",
   "execution_count": 3,
   "metadata": {},
   "outputs": [],
   "source": [
    "image_paths = list(paths.list_images('./datasets/digits'))"
   ]
  },
  {
   "cell_type": "code",
   "execution_count": 4,
   "metadata": {},
   "outputs": [
    {
     "name": "stdout",
     "output_type": "stream",
     "text": [
      "[INFO] processed 500/2301\n",
      "[INFO] processed 1000/2301\n",
      "[INFO] processed 1500/2301\n",
      "[INFO] processed 2000/2301\n"
     ]
    }
   ],
   "source": [
    "(data, labels) = sdl.load(image_paths, verbose=500)"
   ]
  },
  {
   "cell_type": "code",
   "execution_count": 5,
   "metadata": {},
   "outputs": [],
   "source": [
    "data = data.astype(\"float\") / 255.0"
   ]
  },
  {
   "cell_type": "code",
   "execution_count": 6,
   "metadata": {},
   "outputs": [],
   "source": [
    "(x_train, x_test, y_train, y_test) = train_test_split(data, labels, test_size=0.25, random_state=42)"
   ]
  },
  {
   "cell_type": "code",
   "execution_count": 7,
   "metadata": {},
   "outputs": [
    {
     "data": {
      "text/plain": [
       "((1725, 28, 28), (1725,), (576, 28, 28), (576,))"
      ]
     },
     "execution_count": 7,
     "metadata": {},
     "output_type": "execute_result"
    }
   ],
   "source": [
    "x_train.shape,y_train.shape,x_test.shape,y_test.shape"
   ]
  },
  {
   "cell_type": "code",
   "execution_count": 8,
   "metadata": {},
   "outputs": [],
   "source": [
    "y_train = LabelBinarizer().fit_transform(y_train)"
   ]
  },
  {
   "cell_type": "code",
   "execution_count": 9,
   "metadata": {},
   "outputs": [],
   "source": [
    "y_test = LabelBinarizer().fit_transform(y_test)"
   ]
  },
  {
   "cell_type": "code",
   "execution_count": 10,
   "metadata": {},
   "outputs": [
    {
     "data": {
      "text/plain": [
       "((1725, 28, 28), (1725, 10), (576, 28, 28), (576, 10))"
      ]
     },
     "execution_count": 10,
     "metadata": {},
     "output_type": "execute_result"
    }
   ],
   "source": [
    "x_train.shape,y_train.shape,x_test.shape,y_test.shape"
   ]
  },
  {
   "cell_type": "code",
   "execution_count": 11,
   "metadata": {},
   "outputs": [],
   "source": [
    "x_train = x_train.reshape(x_train.shape[0],28,28,1)"
   ]
  },
  {
   "cell_type": "code",
   "execution_count": 12,
   "metadata": {},
   "outputs": [],
   "source": [
    "x_test = x_test.reshape(x_test.shape[0],28,28,1)"
   ]
  },
  {
   "cell_type": "code",
   "execution_count": 13,
   "metadata": {},
   "outputs": [
    {
     "data": {
      "text/plain": [
       "((1725, 28, 28, 1), (1725, 10), (576, 28, 28, 1), (576, 10))"
      ]
     },
     "execution_count": 13,
     "metadata": {},
     "output_type": "execute_result"
    }
   ],
   "source": [
    "x_train.shape,y_train.shape,x_test.shape,y_test.shape"
   ]
  },
  {
   "cell_type": "code",
   "execution_count": 14,
   "metadata": {},
   "outputs": [],
   "source": [
    "opt = SGD(lr=0.01)"
   ]
  },
  {
   "cell_type": "code",
   "execution_count": 15,
   "metadata": {},
   "outputs": [],
   "source": [
    "model = LeNet.build(width=28, height=28, depth=1, num_classes=10)"
   ]
  },
  {
   "cell_type": "code",
   "execution_count": 16,
   "metadata": {},
   "outputs": [],
   "source": [
    "model.compile(loss=\"categorical_crossentropy\", optimizer=opt, metrics=[\"accuracy\"])"
   ]
  },
  {
   "cell_type": "code",
   "execution_count": 17,
   "metadata": {},
   "outputs": [],
   "source": [
    "from keras.callbacks import ModelCheckpoint\n",
    "checkpoint = ModelCheckpoint('models/best_weights.hdf5', monitor=\"val_loss\", save_best_only=True, verbose=1)\n",
    "callbacks = [checkpoint]"
   ]
  },
  {
   "cell_type": "code",
   "execution_count": 18,
   "metadata": {},
   "outputs": [
    {
     "name": "stdout",
     "output_type": "stream",
     "text": [
      "Train on 1725 samples, validate on 576 samples\n",
      "Epoch 1/100\n",
      "1725/1725 [==============================] - 1s 841us/step - loss: 2.2940 - acc: 0.1438 - val_loss: 2.2712 - val_acc: 0.1493\n",
      "\n",
      "Epoch 00001: val_loss improved from inf to 2.27117, saving model to models/best_weights.hdf5\n",
      "Epoch 2/100\n",
      "1725/1725 [==============================] - 0s 213us/step - loss: 2.2780 - acc: 0.1525 - val_loss: 2.2612 - val_acc: 0.1493\n",
      "\n",
      "Epoch 00002: val_loss improved from 2.27117 to 2.26121, saving model to models/best_weights.hdf5\n",
      "Epoch 3/100\n",
      "1725/1725 [==============================] - 0s 209us/step - loss: 2.2661 - acc: 0.1739 - val_loss: 2.2447 - val_acc: 0.1545\n",
      "\n",
      "Epoch 00003: val_loss improved from 2.26121 to 2.24474, saving model to models/best_weights.hdf5\n",
      "Epoch 4/100\n",
      "1725/1725 [==============================] - 0s 215us/step - loss: 2.2497 - acc: 0.1919 - val_loss: 2.2305 - val_acc: 0.2014\n",
      "\n",
      "Epoch 00004: val_loss improved from 2.24474 to 2.23045, saving model to models/best_weights.hdf5\n",
      "Epoch 5/100\n",
      "1725/1725 [==============================] - 0s 210us/step - loss: 2.2348 - acc: 0.2012 - val_loss: 2.2078 - val_acc: 0.2934\n",
      "\n",
      "Epoch 00005: val_loss improved from 2.23045 to 2.20777, saving model to models/best_weights.hdf5\n",
      "Epoch 6/100\n",
      "1725/1725 [==============================] - 0s 212us/step - loss: 2.1999 - acc: 0.2290 - val_loss: 2.1587 - val_acc: 0.3611\n",
      "\n",
      "Epoch 00006: val_loss improved from 2.20777 to 2.15866, saving model to models/best_weights.hdf5\n",
      "Epoch 7/100\n",
      "1725/1725 [==============================] - 0s 213us/step - loss: 2.1576 - acc: 0.2719 - val_loss: 2.0941 - val_acc: 0.3003\n",
      "\n",
      "Epoch 00007: val_loss improved from 2.15866 to 2.09410, saving model to models/best_weights.hdf5\n",
      "Epoch 8/100\n",
      "1725/1725 [==============================] - 0s 209us/step - loss: 2.0966 - acc: 0.3020 - val_loss: 1.9964 - val_acc: 0.4167\n",
      "\n",
      "Epoch 00008: val_loss improved from 2.09410 to 1.99640, saving model to models/best_weights.hdf5\n",
      "Epoch 9/100\n",
      "1725/1725 [==============================] - 0s 215us/step - loss: 1.9705 - acc: 0.3571 - val_loss: 1.8366 - val_acc: 0.5347\n",
      "\n",
      "Epoch 00009: val_loss improved from 1.99640 to 1.83664, saving model to models/best_weights.hdf5\n",
      "Epoch 10/100\n",
      "1725/1725 [==============================] - 0s 233us/step - loss: 1.8065 - acc: 0.4209 - val_loss: 1.6341 - val_acc: 0.5087\n",
      "\n",
      "Epoch 00010: val_loss improved from 1.83664 to 1.63415, saving model to models/best_weights.hdf5\n",
      "Epoch 11/100\n",
      "1725/1725 [==============================] - 0s 229us/step - loss: 1.6115 - acc: 0.5014 - val_loss: 1.4045 - val_acc: 0.7344\n",
      "\n",
      "Epoch 00011: val_loss improved from 1.63415 to 1.40450, saving model to models/best_weights.hdf5\n",
      "Epoch 12/100\n",
      "1725/1725 [==============================] - 0s 213us/step - loss: 1.3970 - acc: 0.5878 - val_loss: 1.1627 - val_acc: 0.7031\n",
      "\n",
      "Epoch 00012: val_loss improved from 1.40450 to 1.16266, saving model to models/best_weights.hdf5\n",
      "Epoch 13/100\n",
      "1725/1725 [==============================] - 0s 211us/step - loss: 1.2144 - acc: 0.6429 - val_loss: 0.9668 - val_acc: 0.8108\n",
      "\n",
      "Epoch 00013: val_loss improved from 1.16266 to 0.96680, saving model to models/best_weights.hdf5\n",
      "Epoch 14/100\n",
      "1725/1725 [==============================] - 0s 214us/step - loss: 1.0067 - acc: 0.7177 - val_loss: 0.7718 - val_acc: 0.8663\n",
      "\n",
      "Epoch 00014: val_loss improved from 0.96680 to 0.77180, saving model to models/best_weights.hdf5\n",
      "Epoch 15/100\n",
      "1725/1725 [==============================] - 0s 224us/step - loss: 0.8479 - acc: 0.7507 - val_loss: 0.6350 - val_acc: 0.9306\n",
      "\n",
      "Epoch 00015: val_loss improved from 0.77180 to 0.63501, saving model to models/best_weights.hdf5\n",
      "Epoch 16/100\n",
      "1725/1725 [==============================] - 0s 209us/step - loss: 0.7182 - acc: 0.8006 - val_loss: 0.5261 - val_acc: 0.9306\n",
      "\n",
      "Epoch 00016: val_loss improved from 0.63501 to 0.52606, saving model to models/best_weights.hdf5\n",
      "Epoch 17/100\n",
      "1725/1725 [==============================] - 0s 218us/step - loss: 0.5904 - acc: 0.8423 - val_loss: 0.4125 - val_acc: 0.9375\n",
      "\n",
      "Epoch 00017: val_loss improved from 0.52606 to 0.41252, saving model to models/best_weights.hdf5\n",
      "Epoch 18/100\n",
      "1725/1725 [==============================] - 0s 222us/step - loss: 0.5107 - acc: 0.8655 - val_loss: 0.3463 - val_acc: 0.9392\n",
      "\n",
      "Epoch 00018: val_loss improved from 0.41252 to 0.34632, saving model to models/best_weights.hdf5\n",
      "Epoch 19/100\n",
      "1725/1725 [==============================] - 0s 212us/step - loss: 0.4314 - acc: 0.9009 - val_loss: 0.2816 - val_acc: 0.9601\n",
      "\n",
      "Epoch 00019: val_loss improved from 0.34632 to 0.28161, saving model to models/best_weights.hdf5\n",
      "Epoch 20/100\n",
      "1725/1725 [==============================] - 0s 230us/step - loss: 0.3867 - acc: 0.9026 - val_loss: 0.2558 - val_acc: 0.9601\n",
      "\n",
      "Epoch 00020: val_loss improved from 0.28161 to 0.25576, saving model to models/best_weights.hdf5\n",
      "Epoch 21/100\n",
      "1725/1725 [==============================] - 0s 211us/step - loss: 0.3389 - acc: 0.9241 - val_loss: 0.2200 - val_acc: 0.9688\n",
      "\n",
      "Epoch 00021: val_loss improved from 0.25576 to 0.22001, saving model to models/best_weights.hdf5\n",
      "Epoch 22/100\n",
      "1725/1725 [==============================] - 0s 213us/step - loss: 0.2938 - acc: 0.9368 - val_loss: 0.1858 - val_acc: 0.9722\n",
      "\n",
      "Epoch 00022: val_loss improved from 0.22001 to 0.18578, saving model to models/best_weights.hdf5\n",
      "Epoch 23/100\n",
      "1725/1725 [==============================] - 0s 211us/step - loss: 0.2578 - acc: 0.9443 - val_loss: 0.1680 - val_acc: 0.9705\n",
      "\n",
      "Epoch 00023: val_loss improved from 0.18578 to 0.16799, saving model to models/best_weights.hdf5\n",
      "Epoch 24/100\n",
      "1725/1725 [==============================] - 0s 211us/step - loss: 0.2419 - acc: 0.9467 - val_loss: 0.1491 - val_acc: 0.9740\n",
      "\n",
      "Epoch 00024: val_loss improved from 0.16799 to 0.14906, saving model to models/best_weights.hdf5\n",
      "Epoch 25/100\n",
      "1725/1725 [==============================] - 0s 205us/step - loss: 0.2215 - acc: 0.9496 - val_loss: 0.1434 - val_acc: 0.9740\n",
      "\n",
      "Epoch 00025: val_loss improved from 0.14906 to 0.14339, saving model to models/best_weights.hdf5\n",
      "Epoch 26/100\n",
      "1725/1725 [==============================] - 0s 205us/step - loss: 0.2184 - acc: 0.9571 - val_loss: 0.1387 - val_acc: 0.9757\n",
      "\n",
      "Epoch 00026: val_loss improved from 0.14339 to 0.13873, saving model to models/best_weights.hdf5\n",
      "Epoch 27/100\n",
      "1725/1725 [==============================] - 0s 225us/step - loss: 0.2110 - acc: 0.9577 - val_loss: 0.1259 - val_acc: 0.9792\n",
      "\n",
      "Epoch 00027: val_loss improved from 0.13873 to 0.12594, saving model to models/best_weights.hdf5\n",
      "Epoch 28/100\n",
      "1725/1725 [==============================] - 0s 208us/step - loss: 0.1845 - acc: 0.9588 - val_loss: 0.1209 - val_acc: 0.9809\n",
      "\n",
      "Epoch 00028: val_loss improved from 0.12594 to 0.12092, saving model to models/best_weights.hdf5\n",
      "Epoch 29/100\n",
      "1725/1725 [==============================] - 0s 206us/step - loss: 0.1714 - acc: 0.9623 - val_loss: 0.1216 - val_acc: 0.9774\n",
      "\n",
      "Epoch 00029: val_loss did not improve from 0.12092\n",
      "Epoch 30/100\n",
      "1725/1725 [==============================] - 0s 208us/step - loss: 0.1750 - acc: 0.9606 - val_loss: 0.1112 - val_acc: 0.9809\n",
      "\n",
      "Epoch 00030: val_loss improved from 0.12092 to 0.11124, saving model to models/best_weights.hdf5\n",
      "Epoch 31/100\n",
      "1725/1725 [==============================] - 0s 214us/step - loss: 0.1513 - acc: 0.9687 - val_loss: 0.1062 - val_acc: 0.9809\n",
      "\n",
      "Epoch 00031: val_loss improved from 0.11124 to 0.10621, saving model to models/best_weights.hdf5\n",
      "Epoch 32/100\n",
      "1725/1725 [==============================] - 0s 223us/step - loss: 0.1298 - acc: 0.9757 - val_loss: 0.1152 - val_acc: 0.9792\n",
      "\n",
      "Epoch 00032: val_loss did not improve from 0.10621\n",
      "Epoch 33/100\n",
      "1725/1725 [==============================] - 0s 224us/step - loss: 0.1270 - acc: 0.9739 - val_loss: 0.1073 - val_acc: 0.9774\n",
      "\n",
      "Epoch 00033: val_loss did not improve from 0.10621\n",
      "Epoch 34/100\n",
      "1725/1725 [==============================] - 0s 211us/step - loss: 0.1381 - acc: 0.9704 - val_loss: 0.1040 - val_acc: 0.9774\n",
      "\n",
      "Epoch 00034: val_loss improved from 0.10621 to 0.10399, saving model to models/best_weights.hdf5\n",
      "Epoch 35/100\n",
      "1725/1725 [==============================] - 0s 212us/step - loss: 0.1250 - acc: 0.9803 - val_loss: 0.0980 - val_acc: 0.9826\n",
      "\n",
      "Epoch 00035: val_loss improved from 0.10399 to 0.09796, saving model to models/best_weights.hdf5\n",
      "Epoch 36/100\n"
     ]
    },
    {
     "name": "stdout",
     "output_type": "stream",
     "text": [
      "1725/1725 [==============================] - 0s 212us/step - loss: 0.1256 - acc: 0.9739 - val_loss: 0.1005 - val_acc: 0.9826\n",
      "\n",
      "Epoch 00036: val_loss did not improve from 0.09796\n",
      "Epoch 37/100\n",
      "1725/1725 [==============================] - 0s 218us/step - loss: 0.1129 - acc: 0.9774 - val_loss: 0.0972 - val_acc: 0.9826\n",
      "\n",
      "Epoch 00037: val_loss improved from 0.09796 to 0.09720, saving model to models/best_weights.hdf5\n",
      "Epoch 38/100\n",
      "1725/1725 [==============================] - 0s 212us/step - loss: 0.1092 - acc: 0.9814 - val_loss: 0.0958 - val_acc: 0.9844\n",
      "\n",
      "Epoch 00038: val_loss improved from 0.09720 to 0.09581, saving model to models/best_weights.hdf5\n",
      "Epoch 39/100\n",
      "1725/1725 [==============================] - 0s 207us/step - loss: 0.1111 - acc: 0.9814 - val_loss: 0.0911 - val_acc: 0.9844\n",
      "\n",
      "Epoch 00039: val_loss improved from 0.09581 to 0.09105, saving model to models/best_weights.hdf5\n",
      "Epoch 40/100\n",
      "1725/1725 [==============================] - 0s 208us/step - loss: 0.1083 - acc: 0.9745 - val_loss: 0.0932 - val_acc: 0.9809\n",
      "\n",
      "Epoch 00040: val_loss did not improve from 0.09105\n",
      "Epoch 41/100\n",
      "1725/1725 [==============================] - 0s 213us/step - loss: 0.0897 - acc: 0.9809 - val_loss: 0.0912 - val_acc: 0.9826\n",
      "\n",
      "Epoch 00041: val_loss did not improve from 0.09105\n",
      "Epoch 42/100\n",
      "1725/1725 [==============================] - 0s 217us/step - loss: 0.0971 - acc: 0.9809 - val_loss: 0.0920 - val_acc: 0.9844\n",
      "\n",
      "Epoch 00042: val_loss did not improve from 0.09105\n",
      "Epoch 43/100\n",
      "1725/1725 [==============================] - 0s 212us/step - loss: 0.1010 - acc: 0.9814 - val_loss: 0.0930 - val_acc: 0.9826\n",
      "\n",
      "Epoch 00043: val_loss did not improve from 0.09105\n",
      "Epoch 44/100\n",
      "1725/1725 [==============================] - 0s 218us/step - loss: 0.0938 - acc: 0.9803 - val_loss: 0.0898 - val_acc: 0.9844\n",
      "\n",
      "Epoch 00044: val_loss improved from 0.09105 to 0.08976, saving model to models/best_weights.hdf5\n",
      "Epoch 45/100\n",
      "1725/1725 [==============================] - 0s 213us/step - loss: 0.0831 - acc: 0.9843 - val_loss: 0.0897 - val_acc: 0.9861\n",
      "\n",
      "Epoch 00045: val_loss improved from 0.08976 to 0.08973, saving model to models/best_weights.hdf5\n",
      "Epoch 46/100\n",
      "1725/1725 [==============================] - 0s 217us/step - loss: 0.0908 - acc: 0.9826 - val_loss: 0.0907 - val_acc: 0.9844\n",
      "\n",
      "Epoch 00046: val_loss did not improve from 0.08973\n",
      "Epoch 47/100\n",
      "1725/1725 [==============================] - 0s 229us/step - loss: 0.0907 - acc: 0.9832 - val_loss: 0.0894 - val_acc: 0.9861\n",
      "\n",
      "Epoch 00047: val_loss improved from 0.08973 to 0.08944, saving model to models/best_weights.hdf5\n",
      "Epoch 48/100\n",
      "1725/1725 [==============================] - 0s 218us/step - loss: 0.0846 - acc: 0.9838 - val_loss: 0.0907 - val_acc: 0.9826\n",
      "\n",
      "Epoch 00048: val_loss did not improve from 0.08944\n",
      "Epoch 49/100\n",
      "1725/1725 [==============================] - 0s 216us/step - loss: 0.0694 - acc: 0.9884 - val_loss: 0.0933 - val_acc: 0.9809\n",
      "\n",
      "Epoch 00049: val_loss did not improve from 0.08944\n",
      "Epoch 50/100\n",
      "1725/1725 [==============================] - 0s 218us/step - loss: 0.0764 - acc: 0.9826 - val_loss: 0.0871 - val_acc: 0.9861\n",
      "\n",
      "Epoch 00050: val_loss improved from 0.08944 to 0.08714, saving model to models/best_weights.hdf5\n",
      "Epoch 51/100\n",
      "1725/1725 [==============================] - 0s 215us/step - loss: 0.0728 - acc: 0.9861 - val_loss: 0.0873 - val_acc: 0.9844\n",
      "\n",
      "Epoch 00051: val_loss did not improve from 0.08714\n",
      "Epoch 52/100\n",
      "1725/1725 [==============================] - 0s 209us/step - loss: 0.0767 - acc: 0.9867 - val_loss: 0.0890 - val_acc: 0.9826\n",
      "\n",
      "Epoch 00052: val_loss did not improve from 0.08714\n",
      "Epoch 53/100\n",
      "1725/1725 [==============================] - 0s 209us/step - loss: 0.0743 - acc: 0.9861 - val_loss: 0.0872 - val_acc: 0.9861\n",
      "\n",
      "Epoch 00053: val_loss did not improve from 0.08714\n",
      "Epoch 54/100\n",
      "1725/1725 [==============================] - 0s 214us/step - loss: 0.0664 - acc: 0.9901 - val_loss: 0.0880 - val_acc: 0.9861\n",
      "\n",
      "Epoch 00054: val_loss did not improve from 0.08714\n",
      "Epoch 55/100\n",
      "1725/1725 [==============================] - 0s 211us/step - loss: 0.0654 - acc: 0.9896 - val_loss: 0.0882 - val_acc: 0.9861\n",
      "\n",
      "Epoch 00055: val_loss did not improve from 0.08714\n",
      "Epoch 56/100\n",
      "1725/1725 [==============================] - 0s 211us/step - loss: 0.0747 - acc: 0.9884 - val_loss: 0.0880 - val_acc: 0.9861\n",
      "\n",
      "Epoch 00056: val_loss did not improve from 0.08714\n",
      "Epoch 57/100\n",
      "1725/1725 [==============================] - 0s 214us/step - loss: 0.0676 - acc: 0.9884 - val_loss: 0.0861 - val_acc: 0.9861\n",
      "\n",
      "Epoch 00057: val_loss improved from 0.08714 to 0.08611, saving model to models/best_weights.hdf5\n",
      "Epoch 58/100\n",
      "1725/1725 [==============================] - 0s 208us/step - loss: 0.0727 - acc: 0.9849 - val_loss: 0.0878 - val_acc: 0.9844\n",
      "\n",
      "Epoch 00058: val_loss did not improve from 0.08611\n",
      "Epoch 59/100\n",
      "1725/1725 [==============================] - 0s 210us/step - loss: 0.0604 - acc: 0.9884 - val_loss: 0.0871 - val_acc: 0.9844\n",
      "\n",
      "Epoch 00059: val_loss did not improve from 0.08611\n",
      "Epoch 60/100\n",
      "1725/1725 [==============================] - 0s 209us/step - loss: 0.0606 - acc: 0.9872 - val_loss: 0.0849 - val_acc: 0.9878\n",
      "\n",
      "Epoch 00060: val_loss improved from 0.08611 to 0.08489, saving model to models/best_weights.hdf5\n",
      "Epoch 61/100\n",
      "1725/1725 [==============================] - 0s 206us/step - loss: 0.0608 - acc: 0.9890 - val_loss: 0.0848 - val_acc: 0.9878\n",
      "\n",
      "Epoch 00061: val_loss improved from 0.08489 to 0.08482, saving model to models/best_weights.hdf5\n",
      "Epoch 62/100\n",
      "1725/1725 [==============================] - 0s 210us/step - loss: 0.0675 - acc: 0.9849 - val_loss: 0.0850 - val_acc: 0.9861\n",
      "\n",
      "Epoch 00062: val_loss did not improve from 0.08482\n",
      "Epoch 63/100\n",
      "1725/1725 [==============================] - 0s 207us/step - loss: 0.0587 - acc: 0.9890 - val_loss: 0.0877 - val_acc: 0.9861\n",
      "\n",
      "Epoch 00063: val_loss did not improve from 0.08482\n",
      "Epoch 64/100\n",
      "1725/1725 [==============================] - 0s 214us/step - loss: 0.0635 - acc: 0.9878 - val_loss: 0.0896 - val_acc: 0.9861\n",
      "\n",
      "Epoch 00064: val_loss did not improve from 0.08482\n",
      "Epoch 65/100\n",
      "1725/1725 [==============================] - 0s 209us/step - loss: 0.0592 - acc: 0.9896 - val_loss: 0.0892 - val_acc: 0.9844\n",
      "\n",
      "Epoch 00065: val_loss did not improve from 0.08482\n",
      "Epoch 66/100\n",
      "1725/1725 [==============================] - 0s 205us/step - loss: 0.0557 - acc: 0.9878 - val_loss: 0.0902 - val_acc: 0.9844\n",
      "\n",
      "Epoch 00066: val_loss did not improve from 0.08482\n",
      "Epoch 67/100\n",
      "1725/1725 [==============================] - 0s 210us/step - loss: 0.0541 - acc: 0.9901 - val_loss: 0.0889 - val_acc: 0.9878\n",
      "\n",
      "Epoch 00067: val_loss did not improve from 0.08482\n",
      "Epoch 68/100\n",
      "1725/1725 [==============================] - 0s 210us/step - loss: 0.0515 - acc: 0.9890 - val_loss: 0.0886 - val_acc: 0.9878\n",
      "\n",
      "Epoch 00068: val_loss did not improve from 0.08482\n",
      "Epoch 69/100\n",
      "1725/1725 [==============================] - 0s 209us/step - loss: 0.0587 - acc: 0.9890 - val_loss: 0.0886 - val_acc: 0.9878\n",
      "\n",
      "Epoch 00069: val_loss did not improve from 0.08482\n",
      "Epoch 70/100\n",
      "1725/1725 [==============================] - 0s 204us/step - loss: 0.0592 - acc: 0.9861 - val_loss: 0.0873 - val_acc: 0.9861\n",
      "\n",
      "Epoch 00070: val_loss did not improve from 0.08482\n",
      "Epoch 71/100\n",
      "1725/1725 [==============================] - 0s 219us/step - loss: 0.0522 - acc: 0.9913 - val_loss: 0.0890 - val_acc: 0.9844\n",
      "\n",
      "Epoch 00071: val_loss did not improve from 0.08482\n",
      "Epoch 72/100\n",
      "1725/1725 [==============================] - 0s 222us/step - loss: 0.0507 - acc: 0.9919 - val_loss: 0.0892 - val_acc: 0.9878\n",
      "\n",
      "Epoch 00072: val_loss did not improve from 0.08482\n",
      "Epoch 73/100\n",
      "1725/1725 [==============================] - 0s 213us/step - loss: 0.0502 - acc: 0.9867 - val_loss: 0.0871 - val_acc: 0.9878\n",
      "\n",
      "Epoch 00073: val_loss did not improve from 0.08482\n",
      "Epoch 74/100\n",
      "1725/1725 [==============================] - 0s 210us/step - loss: 0.0467 - acc: 0.9913 - val_loss: 0.0899 - val_acc: 0.9861\n",
      "\n",
      "Epoch 00074: val_loss did not improve from 0.08482\n",
      "Epoch 75/100\n",
      "1725/1725 [==============================] - 0s 210us/step - loss: 0.0431 - acc: 0.9925 - val_loss: 0.0893 - val_acc: 0.9878\n",
      "\n",
      "Epoch 00075: val_loss did not improve from 0.08482\n",
      "Epoch 76/100\n",
      "1725/1725 [==============================] - 0s 213us/step - loss: 0.0524 - acc: 0.9907 - val_loss: 0.0900 - val_acc: 0.9878\n",
      "\n",
      "Epoch 00076: val_loss did not improve from 0.08482\n",
      "Epoch 77/100\n"
     ]
    },
    {
     "name": "stdout",
     "output_type": "stream",
     "text": [
      "1725/1725 [==============================] - 0s 213us/step - loss: 0.0489 - acc: 0.9896 - val_loss: 0.0915 - val_acc: 0.9878\n",
      "\n",
      "Epoch 00077: val_loss did not improve from 0.08482\n",
      "Epoch 78/100\n",
      "1725/1725 [==============================] - 0s 211us/step - loss: 0.0538 - acc: 0.9878 - val_loss: 0.0871 - val_acc: 0.9878\n",
      "\n",
      "Epoch 00078: val_loss did not improve from 0.08482\n",
      "Epoch 79/100\n",
      "1725/1725 [==============================] - 0s 217us/step - loss: 0.0525 - acc: 0.9890 - val_loss: 0.0882 - val_acc: 0.9878\n",
      "\n",
      "Epoch 00079: val_loss did not improve from 0.08482\n",
      "Epoch 80/100\n",
      "1725/1725 [==============================] - 0s 214us/step - loss: 0.0428 - acc: 0.9948 - val_loss: 0.0893 - val_acc: 0.9878\n",
      "\n",
      "Epoch 00080: val_loss did not improve from 0.08482\n",
      "Epoch 81/100\n",
      "1725/1725 [==============================] - 0s 211us/step - loss: 0.0433 - acc: 0.9948 - val_loss: 0.0910 - val_acc: 0.9861\n",
      "\n",
      "Epoch 00081: val_loss did not improve from 0.08482\n",
      "Epoch 82/100\n",
      "1725/1725 [==============================] - 0s 227us/step - loss: 0.0454 - acc: 0.9896 - val_loss: 0.0877 - val_acc: 0.9878\n",
      "\n",
      "Epoch 00082: val_loss did not improve from 0.08482\n",
      "Epoch 83/100\n",
      "1725/1725 [==============================] - 0s 218us/step - loss: 0.0400 - acc: 0.9913 - val_loss: 0.0874 - val_acc: 0.9878\n",
      "\n",
      "Epoch 00083: val_loss did not improve from 0.08482\n",
      "Epoch 84/100\n",
      "1725/1725 [==============================] - 0s 226us/step - loss: 0.0418 - acc: 0.9948 - val_loss: 0.0893 - val_acc: 0.9896\n",
      "\n",
      "Epoch 00084: val_loss did not improve from 0.08482\n",
      "Epoch 85/100\n",
      "1725/1725 [==============================] - 0s 225us/step - loss: 0.0496 - acc: 0.9919 - val_loss: 0.0876 - val_acc: 0.9896\n",
      "\n",
      "Epoch 00085: val_loss did not improve from 0.08482\n",
      "Epoch 86/100\n",
      "1725/1725 [==============================] - 0s 228us/step - loss: 0.0410 - acc: 0.9907 - val_loss: 0.0915 - val_acc: 0.9861\n",
      "\n",
      "Epoch 00086: val_loss did not improve from 0.08482\n",
      "Epoch 87/100\n",
      "1725/1725 [==============================] - 0s 218us/step - loss: 0.0413 - acc: 0.9936 - val_loss: 0.0887 - val_acc: 0.9878\n",
      "\n",
      "Epoch 00087: val_loss did not improve from 0.08482\n",
      "Epoch 88/100\n",
      "1725/1725 [==============================] - 0s 225us/step - loss: 0.0473 - acc: 0.9896 - val_loss: 0.0867 - val_acc: 0.9878\n",
      "\n",
      "Epoch 00088: val_loss did not improve from 0.08482\n",
      "Epoch 89/100\n",
      "1725/1725 [==============================] - 0s 221us/step - loss: 0.0497 - acc: 0.9919 - val_loss: 0.0914 - val_acc: 0.9878\n",
      "\n",
      "Epoch 00089: val_loss did not improve from 0.08482\n",
      "Epoch 90/100\n",
      "1725/1725 [==============================] - 0s 222us/step - loss: 0.0344 - acc: 0.9948 - val_loss: 0.0949 - val_acc: 0.9844\n",
      "\n",
      "Epoch 00090: val_loss did not improve from 0.08482\n",
      "Epoch 91/100\n",
      "1725/1725 [==============================] - 0s 212us/step - loss: 0.0426 - acc: 0.9907 - val_loss: 0.0855 - val_acc: 0.9896\n",
      "\n",
      "Epoch 00091: val_loss did not improve from 0.08482\n",
      "Epoch 92/100\n",
      "1725/1725 [==============================] - 0s 210us/step - loss: 0.0422 - acc: 0.9936 - val_loss: 0.0870 - val_acc: 0.9878\n",
      "\n",
      "Epoch 00092: val_loss did not improve from 0.08482\n",
      "Epoch 93/100\n",
      "1725/1725 [==============================] - 0s 210us/step - loss: 0.0406 - acc: 0.9942 - val_loss: 0.0907 - val_acc: 0.9861\n",
      "\n",
      "Epoch 00093: val_loss did not improve from 0.08482\n",
      "Epoch 94/100\n",
      "1725/1725 [==============================] - 0s 214us/step - loss: 0.0416 - acc: 0.9919 - val_loss: 0.0890 - val_acc: 0.9896\n",
      "\n",
      "Epoch 00094: val_loss did not improve from 0.08482\n",
      "Epoch 95/100\n",
      "1725/1725 [==============================] - 0s 213us/step - loss: 0.0478 - acc: 0.9913 - val_loss: 0.0880 - val_acc: 0.9878\n",
      "\n",
      "Epoch 00095: val_loss did not improve from 0.08482\n",
      "Epoch 96/100\n",
      "1725/1725 [==============================] - 0s 215us/step - loss: 0.0378 - acc: 0.9942 - val_loss: 0.0931 - val_acc: 0.9878\n",
      "\n",
      "Epoch 00096: val_loss did not improve from 0.08482\n",
      "Epoch 97/100\n",
      "1725/1725 [==============================] - 0s 215us/step - loss: 0.0349 - acc: 0.9925 - val_loss: 0.0896 - val_acc: 0.9861\n",
      "\n",
      "Epoch 00097: val_loss did not improve from 0.08482\n",
      "Epoch 98/100\n",
      "1725/1725 [==============================] - 0s 213us/step - loss: 0.0384 - acc: 0.9913 - val_loss: 0.0869 - val_acc: 0.9913\n",
      "\n",
      "Epoch 00098: val_loss did not improve from 0.08482\n",
      "Epoch 99/100\n",
      "1725/1725 [==============================] - 0s 216us/step - loss: 0.0421 - acc: 0.9948 - val_loss: 0.0867 - val_acc: 0.9896\n",
      "\n",
      "Epoch 00099: val_loss did not improve from 0.08482\n",
      "Epoch 100/100\n",
      "1725/1725 [==============================] - 0s 215us/step - loss: 0.0354 - acc: 0.9954 - val_loss: 0.0896 - val_acc: 0.9861\n",
      "\n",
      "Epoch 00100: val_loss did not improve from 0.08482\n"
     ]
    }
   ],
   "source": [
    "H = model.fit(x_train, y_train, batch_size=32, validation_data=(x_test, y_test),  \n",
    "              epochs=100, verbose=1, callbacks=callbacks)"
   ]
  },
  {
   "cell_type": "code",
   "execution_count": 19,
   "metadata": {},
   "outputs": [],
   "source": [
    "predictions = model.predict(x_test, batch_size=32)"
   ]
  },
  {
   "cell_type": "code",
   "execution_count": 20,
   "metadata": {},
   "outputs": [
    {
     "name": "stdout",
     "output_type": "stream",
     "text": [
      "             precision    recall  f1-score   support\n",
      "\n",
      "          0       0.99      1.00      0.99        86\n",
      "          1       0.98      0.98      0.98        63\n",
      "          2       1.00      1.00      1.00        75\n",
      "          3       0.98      0.96      0.97        49\n",
      "          4       1.00      0.98      0.99        51\n",
      "          5       1.00      1.00      1.00        43\n",
      "          6       1.00      1.00      1.00        43\n",
      "          7       0.98      1.00      0.99        53\n",
      "          8       0.96      0.98      0.97        53\n",
      "          9       0.97      0.95      0.96        60\n",
      "\n",
      "avg / total       0.99      0.99      0.99       576\n",
      "\n"
     ]
    }
   ],
   "source": [
    "print(classification_report(y_test.argmax(axis=1), predictions.argmax(axis=1), \n",
    "                      target_names=['0', '1', '2', '3', '4', '5', '6', '7', '8', '9']))"
   ]
  },
  {
   "cell_type": "code",
   "execution_count": 21,
   "metadata": {},
   "outputs": [
    {
     "data": {
      "image/png": "[encoded data removed]",
      "text/plain": [
       "<Figure size 432x288 with 1 Axes>"
      ]
     },
     "metadata": {},
     "output_type": "display_data"
    }
   ],
   "source": [
    "plt.style.use(\"ggplot\")\n",
    "plt.figure()\n",
    "plt.plot(np.arange(0, 100), H.history[\"loss\"], label=\"train_loss\")\n",
    "plt.plot(np.arange(0, 100), H.history[\"val_loss\"], label=\"val_loss\")\n",
    "plt.plot(np.arange(0, 100), H.history[\"acc\"], label=\"train_acc\")\n",
    "plt.plot(np.arange(0, 100), H.history[\"val_acc\"], label=\"val_acc\")\n",
    "plt.title(\"Training Loss and Accuracy\")\n",
    "plt.xlabel(\"Epoch #\")\n",
    "plt.ylabel(\"Loss/Accuracy\")\n",
    "plt.legend()\n",
    "plt.show()"
   ]
  },
  {
   "cell_type": "code",
   "execution_count": null,
   "metadata": {},
   "outputs": [],
   "source": []
  }
 ],
 "metadata": {
  "kernelspec": {
   "display_name": "Python 3",
   "language": "python",
   "name": "python3"
  },
  "language_info": {
   "codemirror_mode": {
    "name": "ipython",
    "version": 3
   },
   "file_extension": ".py",
   "mimetype": "text/x-python",
   "name": "python",
   "nbconvert_exporter": "python",
   "pygments_lexer": "ipython3",
   "version": "3.6.5"
  }
 },
 "nbformat": 4,
 "nbformat_minor": 2
}
