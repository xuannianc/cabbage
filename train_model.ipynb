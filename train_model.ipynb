{
 "cells": [
  {
   "cell_type": "code",
   "execution_count": 1,
   "metadata": {},
   "outputs": [
    {
     "name": "stderr",
     "output_type": "stream",
     "text": [
      "Using TensorFlow backend.\n"
     ]
    }
   ],
   "source": [
    "import keras\n",
    "from sklearn.preprocessing import LabelBinarizer\n",
    "from keras import backend as K\n",
    "from models.lenet_official import LeNet\n",
    "from sklearn.metrics import classification_report\n",
    "import matplotlib.pyplot as plt\n",
    "import numpy as np\n",
    "from dataset_loaders import SimpleDatasetLoader\n",
    "from imutils import paths\n",
    "from sklearn.model_selection import train_test_split"
   ]
  },
  {
   "cell_type": "code",
   "execution_count": 2,
   "metadata": {},
   "outputs": [],
   "source": [
    "sdl = SimpleDatasetLoader()"
   ]
  },
  {
   "cell_type": "code",
   "execution_count": 3,
   "metadata": {},
   "outputs": [],
   "source": [
    "image_paths = list(paths.list_images('./datasets/digits'))"
   ]
  },
  {
   "cell_type": "code",
   "execution_count": 4,
   "metadata": {},
   "outputs": [
    {
     "name": "stdout",
     "output_type": "stream",
     "text": [
      "[INFO] processed 500/2301\n",
      "[INFO] processed 1000/2301\n",
      "[INFO] processed 1500/2301\n",
      "[INFO] processed 2000/2301\n"
     ]
    }
   ],
   "source": [
    "(data, labels) = sdl.load(image_paths, verbose=500)"
   ]
  },
  {
   "cell_type": "code",
   "execution_count": 5,
   "metadata": {},
   "outputs": [],
   "source": [
    "data = data.astype(\"float\") / 255.0"
   ]
  },
  {
   "cell_type": "code",
   "execution_count": 6,
   "metadata": {},
   "outputs": [],
   "source": [
    "# partition the data into training and testing splits using 75% of\n",
    "# the data for training and the remaining 25% for testing\n",
    "from sklearn.model_selection import train_test_split\n",
    "(x_train, x_test, y_train, y_test) = train_test_split(data, labels, test_size=0.25, random_state=42)"
   ]
  },
  {
   "cell_type": "code",
   "execution_count": 7,
   "metadata": {},
   "outputs": [],
   "source": [
    "# convert the labels from integers to vectors\n",
    "y_train = LabelBinarizer().fit_transform(y_train)\n",
    "y_test = LabelBinarizer().fit_transform(y_test)"
   ]
  },
  {
   "cell_type": "code",
   "execution_count": 8,
   "metadata": {},
   "outputs": [
    {
     "data": {
      "text/plain": [
       "((1725, 10), (1725, 28, 28))"
      ]
     },
     "execution_count": 8,
     "metadata": {},
     "output_type": "execute_result"
    }
   ],
   "source": [
    "y_train.shape,x_train.shape"
   ]
  },
  {
   "cell_type": "code",
   "execution_count": 9,
   "metadata": {},
   "outputs": [],
   "source": [
    "x_train = x_train.reshape(x_train.shape[0],28,28,1)"
   ]
  },
  {
   "cell_type": "code",
   "execution_count": 10,
   "metadata": {},
   "outputs": [],
   "source": [
    "x_test = x_test.reshape(x_test.shape[0],28,28,1)"
   ]
  },
  {
   "cell_type": "code",
   "execution_count": 11,
   "metadata": {},
   "outputs": [],
   "source": [
    "from keras.optimizers import SGD\n",
    "opt = SGD(lr=0.01)\n",
    "model = LeNet.build(width=28, height=28, depth=1, num_classes=10)"
   ]
  },
  {
   "cell_type": "code",
   "execution_count": 12,
   "metadata": {},
   "outputs": [],
   "source": [
    "model.compile(loss=\"categorical_crossentropy\", optimizer=opt,\n",
    "              metrics=[\"accuracy\"])"
   ]
  },
  {
   "cell_type": "code",
   "execution_count": 13,
   "metadata": {},
   "outputs": [
    {
     "data": {
      "text/plain": [
       "((1725, 28, 28, 1), (576, 28, 28, 1), (1725, 10), (576, 10))"
      ]
     },
     "execution_count": 13,
     "metadata": {},
     "output_type": "execute_result"
    }
   ],
   "source": [
    "x_train.shape,x_test.shape,y_train.shape,y_test.shape"
   ]
  },
  {
   "cell_type": "code",
   "execution_count": 19,
   "metadata": {},
   "outputs": [
    {
     "name": "stdout",
     "output_type": "stream",
     "text": [
      "Train on 1725 samples, validate on 576 samples\n",
      "Epoch 1/100\n",
      "1725/1725 [==============================] - 0s 174us/step - loss: 1.3376 - acc: 0.5959 - val_loss: 1.1582 - val_acc: 0.7622\n",
      "Epoch 2/100\n",
      "1725/1725 [==============================] - 0s 165us/step - loss: 1.2222 - acc: 0.6336 - val_loss: 1.0244 - val_acc: 0.7969\n",
      "Epoch 3/100\n",
      "1725/1725 [==============================] - 0s 155us/step - loss: 1.1065 - acc: 0.6759 - val_loss: 0.9313 - val_acc: 0.8420\n",
      "Epoch 4/100\n",
      "1725/1725 [==============================] - 0s 154us/step - loss: 1.0239 - acc: 0.7136 - val_loss: 0.8207 - val_acc: 0.8854\n",
      "Epoch 5/100\n",
      "1725/1725 [==============================] - 0s 160us/step - loss: 0.9252 - acc: 0.7357 - val_loss: 0.7387 - val_acc: 0.8733\n",
      "Epoch 6/100\n",
      "1725/1725 [==============================] - 0s 156us/step - loss: 0.8318 - acc: 0.7670 - val_loss: 0.6624 - val_acc: 0.8594\n",
      "Epoch 7/100\n",
      "1725/1725 [==============================] - 0s 155us/step - loss: 0.7627 - acc: 0.7843 - val_loss: 0.5950 - val_acc: 0.9167\n",
      "Epoch 8/100\n",
      "1725/1725 [==============================] - 0s 157us/step - loss: 0.7087 - acc: 0.8058 - val_loss: 0.5245 - val_acc: 0.9253\n",
      "Epoch 9/100\n",
      "1725/1725 [==============================] - 0s 159us/step - loss: 0.6425 - acc: 0.8348 - val_loss: 0.4685 - val_acc: 0.9323\n",
      "Epoch 10/100\n",
      "1725/1725 [==============================] - 0s 155us/step - loss: 0.5905 - acc: 0.8429 - val_loss: 0.4374 - val_acc: 0.9514\n",
      "Epoch 11/100\n",
      "1725/1725 [==============================] - 0s 166us/step - loss: 0.5658 - acc: 0.8568 - val_loss: 0.3916 - val_acc: 0.9340\n",
      "Epoch 12/100\n",
      "1725/1725 [==============================] - 0s 169us/step - loss: 0.5070 - acc: 0.8794 - val_loss: 0.3560 - val_acc: 0.9497\n",
      "Epoch 13/100\n",
      "1725/1725 [==============================] - 0s 156us/step - loss: 0.4733 - acc: 0.8916 - val_loss: 0.3271 - val_acc: 0.9549\n",
      "Epoch 14/100\n",
      "1725/1725 [==============================] - 0s 170us/step - loss: 0.4174 - acc: 0.9072 - val_loss: 0.2908 - val_acc: 0.9514\n",
      "Epoch 15/100\n",
      "1725/1725 [==============================] - 0s 160us/step - loss: 0.4010 - acc: 0.9032 - val_loss: 0.2671 - val_acc: 0.9549\n",
      "Epoch 16/100\n",
      "1725/1725 [==============================] - 0s 153us/step - loss: 0.3639 - acc: 0.9072 - val_loss: 0.2494 - val_acc: 0.9566\n",
      "Epoch 17/100\n",
      "1725/1725 [==============================] - 0s 156us/step - loss: 0.3645 - acc: 0.9119 - val_loss: 0.2382 - val_acc: 0.9601\n",
      "Epoch 18/100\n",
      "1725/1725 [==============================] - 0s 174us/step - loss: 0.3295 - acc: 0.9223 - val_loss: 0.2204 - val_acc: 0.9549\n",
      "Epoch 19/100\n",
      "1725/1725 [==============================] - 0s 164us/step - loss: 0.3090 - acc: 0.9304 - val_loss: 0.2028 - val_acc: 0.9635\n",
      "Epoch 20/100\n",
      "1725/1725 [==============================] - 0s 162us/step - loss: 0.2931 - acc: 0.9362 - val_loss: 0.1997 - val_acc: 0.9635\n",
      "Epoch 21/100\n",
      "1725/1725 [==============================] - 0s 173us/step - loss: 0.2743 - acc: 0.9357 - val_loss: 0.1852 - val_acc: 0.9705\n",
      "Epoch 22/100\n",
      "1725/1725 [==============================] - 0s 157us/step - loss: 0.2691 - acc: 0.9380 - val_loss: 0.1793 - val_acc: 0.9688\n",
      "Epoch 23/100\n",
      "1725/1725 [==============================] - 0s 155us/step - loss: 0.2570 - acc: 0.9432 - val_loss: 0.1656 - val_acc: 0.9705\n",
      "Epoch 24/100\n",
      "1725/1725 [==============================] - 0s 170us/step - loss: 0.2328 - acc: 0.9513 - val_loss: 0.1614 - val_acc: 0.9688\n",
      "Epoch 25/100\n",
      "1725/1725 [==============================] - 0s 158us/step - loss: 0.2188 - acc: 0.9554 - val_loss: 0.1553 - val_acc: 0.9740\n",
      "Epoch 26/100\n",
      "1725/1725 [==============================] - 0s 159us/step - loss: 0.2174 - acc: 0.9490 - val_loss: 0.1488 - val_acc: 0.9722\n",
      "Epoch 27/100\n",
      "1725/1725 [==============================] - 0s 167us/step - loss: 0.2077 - acc: 0.9548 - val_loss: 0.1457 - val_acc: 0.9722\n",
      "Epoch 28/100\n",
      "1725/1725 [==============================] - 0s 155us/step - loss: 0.2080 - acc: 0.9525 - val_loss: 0.1379 - val_acc: 0.9740\n",
      "Epoch 29/100\n",
      "1725/1725 [==============================] - 0s 155us/step - loss: 0.1952 - acc: 0.9617 - val_loss: 0.1350 - val_acc: 0.9757\n",
      "Epoch 30/100\n",
      "1725/1725 [==============================] - 0s 169us/step - loss: 0.1868 - acc: 0.9594 - val_loss: 0.1285 - val_acc: 0.9740\n",
      "Epoch 31/100\n",
      "1725/1725 [==============================] - 0s 167us/step - loss: 0.1736 - acc: 0.9606 - val_loss: 0.1275 - val_acc: 0.9740\n",
      "Epoch 32/100\n",
      "1725/1725 [==============================] - 0s 156us/step - loss: 0.1766 - acc: 0.9594 - val_loss: 0.1264 - val_acc: 0.9757\n",
      "Epoch 33/100\n",
      "1725/1725 [==============================] - 0s 157us/step - loss: 0.1675 - acc: 0.9675 - val_loss: 0.1209 - val_acc: 0.9774\n",
      "Epoch 34/100\n",
      "1725/1725 [==============================] - 0s 156us/step - loss: 0.1602 - acc: 0.9699 - val_loss: 0.1186 - val_acc: 0.9774\n",
      "Epoch 35/100\n",
      "1725/1725 [==============================] - 0s 166us/step - loss: 0.1619 - acc: 0.9635 - val_loss: 0.1204 - val_acc: 0.9757\n",
      "Epoch 36/100\n",
      "1725/1725 [==============================] - 0s 153us/step - loss: 0.1570 - acc: 0.9681 - val_loss: 0.1150 - val_acc: 0.9809\n",
      "Epoch 37/100\n",
      "1725/1725 [==============================] - 0s 153us/step - loss: 0.1539 - acc: 0.9675 - val_loss: 0.1137 - val_acc: 0.9774\n",
      "Epoch 38/100\n",
      "1725/1725 [==============================] - 0s 153us/step - loss: 0.1516 - acc: 0.9687 - val_loss: 0.1123 - val_acc: 0.9757\n",
      "Epoch 39/100\n",
      "1725/1725 [==============================] - 0s 152us/step - loss: 0.1525 - acc: 0.9699 - val_loss: 0.1136 - val_acc: 0.9774\n",
      "Epoch 40/100\n",
      "1725/1725 [==============================] - 0s 152us/step - loss: 0.1435 - acc: 0.9768 - val_loss: 0.1091 - val_acc: 0.9792\n",
      "Epoch 41/100\n",
      "1725/1725 [==============================] - 0s 151us/step - loss: 0.1464 - acc: 0.9693 - val_loss: 0.1086 - val_acc: 0.9774\n",
      "Epoch 42/100\n",
      "1725/1725 [==============================] - 0s 168us/step - loss: 0.1299 - acc: 0.9751 - val_loss: 0.1078 - val_acc: 0.9809\n",
      "Epoch 43/100\n",
      "1725/1725 [==============================] - 0s 156us/step - loss: 0.1362 - acc: 0.9745 - val_loss: 0.1018 - val_acc: 0.9792\n",
      "Epoch 44/100\n",
      "1725/1725 [==============================] - 0s 165us/step - loss: 0.1290 - acc: 0.9681 - val_loss: 0.1039 - val_acc: 0.9809\n",
      "Epoch 45/100\n",
      "1725/1725 [==============================] - 0s 154us/step - loss: 0.1323 - acc: 0.9751 - val_loss: 0.1013 - val_acc: 0.9826\n",
      "Epoch 46/100\n",
      "1725/1725 [==============================] - 0s 153us/step - loss: 0.1302 - acc: 0.9716 - val_loss: 0.1003 - val_acc: 0.9809\n",
      "Epoch 47/100\n",
      "1725/1725 [==============================] - 0s 153us/step - loss: 0.1156 - acc: 0.9780 - val_loss: 0.1002 - val_acc: 0.9809\n",
      "Epoch 48/100\n",
      "1725/1725 [==============================] - 0s 169us/step - loss: 0.1243 - acc: 0.9757 - val_loss: 0.0996 - val_acc: 0.9844\n",
      "Epoch 49/100\n",
      "1725/1725 [==============================] - 0s 159us/step - loss: 0.1225 - acc: 0.9716 - val_loss: 0.0978 - val_acc: 0.9844\n",
      "Epoch 50/100\n",
      "1725/1725 [==============================] - 0s 154us/step - loss: 0.1188 - acc: 0.9786 - val_loss: 0.0990 - val_acc: 0.9826\n",
      "Epoch 51/100\n",
      "1725/1725 [==============================] - 0s 154us/step - loss: 0.1228 - acc: 0.9745 - val_loss: 0.0954 - val_acc: 0.9826\n",
      "Epoch 52/100\n",
      "1725/1725 [==============================] - 0s 155us/step - loss: 0.1102 - acc: 0.9768 - val_loss: 0.0976 - val_acc: 0.9809\n",
      "Epoch 53/100\n",
      "1725/1725 [==============================] - 0s 150us/step - loss: 0.1149 - acc: 0.9757 - val_loss: 0.0978 - val_acc: 0.9809\n",
      "Epoch 54/100\n",
      "1725/1725 [==============================] - 0s 150us/step - loss: 0.1154 - acc: 0.9757 - val_loss: 0.0966 - val_acc: 0.9844\n",
      "Epoch 55/100\n",
      "1725/1725 [==============================] - 0s 152us/step - loss: 0.1012 - acc: 0.9797 - val_loss: 0.0974 - val_acc: 0.9809\n",
      "Epoch 56/100\n",
      "1725/1725 [==============================] - 0s 160us/step - loss: 0.1035 - acc: 0.9826 - val_loss: 0.0962 - val_acc: 0.9826\n",
      "Epoch 57/100\n",
      "1725/1725 [==============================] - 0s 164us/step - loss: 0.1030 - acc: 0.9838 - val_loss: 0.0959 - val_acc: 0.9809\n",
      "Epoch 58/100\n",
      "1725/1725 [==============================] - 0s 156us/step - loss: 0.1042 - acc: 0.9797 - val_loss: 0.0962 - val_acc: 0.9826\n",
      "Epoch 59/100\n",
      "1725/1725 [==============================] - 0s 149us/step - loss: 0.0979 - acc: 0.9803 - val_loss: 0.0963 - val_acc: 0.9844\n",
      "Epoch 60/100\n"
     ]
    },
    {
     "name": "stdout",
     "output_type": "stream",
     "text": [
      "1725/1725 [==============================] - 0s 153us/step - loss: 0.0990 - acc: 0.9814 - val_loss: 0.0950 - val_acc: 0.9844\n",
      "Epoch 61/100\n",
      "1725/1725 [==============================] - 0s 153us/step - loss: 0.0945 - acc: 0.9843 - val_loss: 0.0945 - val_acc: 0.9844\n",
      "Epoch 62/100\n",
      "1725/1725 [==============================] - 0s 155us/step - loss: 0.0897 - acc: 0.9809 - val_loss: 0.0947 - val_acc: 0.9861\n",
      "Epoch 63/100\n",
      "1725/1725 [==============================] - 0s 156us/step - loss: 0.0971 - acc: 0.9803 - val_loss: 0.0952 - val_acc: 0.9826\n",
      "Epoch 64/100\n",
      "1725/1725 [==============================] - 0s 158us/step - loss: 0.0902 - acc: 0.9820 - val_loss: 0.0925 - val_acc: 0.9861\n",
      "Epoch 65/100\n",
      "1725/1725 [==============================] - 0s 160us/step - loss: 0.0878 - acc: 0.9849 - val_loss: 0.0943 - val_acc: 0.9844\n",
      "Epoch 66/100\n",
      "1725/1725 [==============================] - 0s 156us/step - loss: 0.0865 - acc: 0.9820 - val_loss: 0.0927 - val_acc: 0.9861\n",
      "Epoch 67/100\n",
      "1725/1725 [==============================] - 0s 155us/step - loss: 0.0839 - acc: 0.9855 - val_loss: 0.0941 - val_acc: 0.9861\n",
      "Epoch 68/100\n",
      "1725/1725 [==============================] - 0s 156us/step - loss: 0.0897 - acc: 0.9820 - val_loss: 0.0938 - val_acc: 0.9826\n",
      "Epoch 69/100\n",
      "1725/1725 [==============================] - 0s 159us/step - loss: 0.0803 - acc: 0.9826 - val_loss: 0.0929 - val_acc: 0.9861\n",
      "Epoch 70/100\n",
      "1725/1725 [==============================] - 0s 155us/step - loss: 0.0845 - acc: 0.9826 - val_loss: 0.0926 - val_acc: 0.9844\n",
      "Epoch 71/100\n",
      "1725/1725 [==============================] - 0s 157us/step - loss: 0.0882 - acc: 0.9820 - val_loss: 0.0938 - val_acc: 0.9826\n",
      "Epoch 72/100\n",
      "1725/1725 [==============================] - 0s 157us/step - loss: 0.0835 - acc: 0.9843 - val_loss: 0.0918 - val_acc: 0.9844\n",
      "Epoch 73/100\n",
      "1725/1725 [==============================] - 0s 154us/step - loss: 0.0837 - acc: 0.9855 - val_loss: 0.0904 - val_acc: 0.9861\n",
      "Epoch 74/100\n",
      "1725/1725 [==============================] - 0s 159us/step - loss: 0.0813 - acc: 0.9809 - val_loss: 0.0899 - val_acc: 0.9844\n",
      "Epoch 75/100\n",
      "1725/1725 [==============================] - 0s 151us/step - loss: 0.0762 - acc: 0.9855 - val_loss: 0.0899 - val_acc: 0.9861\n",
      "Epoch 76/100\n",
      "1725/1725 [==============================] - 0s 154us/step - loss: 0.0875 - acc: 0.9838 - val_loss: 0.0901 - val_acc: 0.9861\n",
      "Epoch 77/100\n",
      "1725/1725 [==============================] - 0s 155us/step - loss: 0.0827 - acc: 0.9797 - val_loss: 0.0897 - val_acc: 0.9861\n",
      "Epoch 78/100\n",
      "1725/1725 [==============================] - 0s 153us/step - loss: 0.0788 - acc: 0.9861 - val_loss: 0.0962 - val_acc: 0.9826\n",
      "Epoch 79/100\n",
      "1725/1725 [==============================] - 0s 156us/step - loss: 0.0687 - acc: 0.9919 - val_loss: 0.0924 - val_acc: 0.9844\n",
      "Epoch 80/100\n",
      "1725/1725 [==============================] - 0s 155us/step - loss: 0.0749 - acc: 0.9843 - val_loss: 0.0923 - val_acc: 0.9844\n",
      "Epoch 81/100\n",
      "1725/1725 [==============================] - 0s 153us/step - loss: 0.0753 - acc: 0.9849 - val_loss: 0.0907 - val_acc: 0.9861\n",
      "Epoch 82/100\n",
      "1725/1725 [==============================] - 0s 154us/step - loss: 0.0713 - acc: 0.9872 - val_loss: 0.0921 - val_acc: 0.9861\n",
      "Epoch 83/100\n",
      "1725/1725 [==============================] - 0s 154us/step - loss: 0.0795 - acc: 0.9867 - val_loss: 0.0887 - val_acc: 0.9861\n",
      "Epoch 84/100\n",
      "1725/1725 [==============================] - 0s 150us/step - loss: 0.0826 - acc: 0.9849 - val_loss: 0.0910 - val_acc: 0.9844\n",
      "Epoch 85/100\n",
      "1725/1725 [==============================] - 0s 155us/step - loss: 0.0780 - acc: 0.9832 - val_loss: 0.0906 - val_acc: 0.9844\n",
      "Epoch 86/100\n",
      "1725/1725 [==============================] - 0s 155us/step - loss: 0.0666 - acc: 0.9901 - val_loss: 0.0905 - val_acc: 0.9861\n",
      "Epoch 87/100\n",
      "1725/1725 [==============================] - 0s 155us/step - loss: 0.0724 - acc: 0.9843 - val_loss: 0.0901 - val_acc: 0.9844\n",
      "Epoch 88/100\n",
      "1725/1725 [==============================] - 0s 151us/step - loss: 0.0646 - acc: 0.9872 - val_loss: 0.0918 - val_acc: 0.9861\n",
      "Epoch 89/100\n",
      "1725/1725 [==============================] - 0s 153us/step - loss: 0.0654 - acc: 0.9896 - val_loss: 0.0918 - val_acc: 0.9861\n",
      "Epoch 90/100\n",
      "1725/1725 [==============================] - 0s 152us/step - loss: 0.0682 - acc: 0.9855 - val_loss: 0.0931 - val_acc: 0.9844\n",
      "Epoch 91/100\n",
      "1725/1725 [==============================] - 0s 154us/step - loss: 0.0669 - acc: 0.9872 - val_loss: 0.0928 - val_acc: 0.9861\n",
      "Epoch 92/100\n",
      "1725/1725 [==============================] - 0s 156us/step - loss: 0.0697 - acc: 0.9884 - val_loss: 0.0920 - val_acc: 0.9844\n",
      "Epoch 93/100\n",
      "1725/1725 [==============================] - 0s 152us/step - loss: 0.0754 - acc: 0.9849 - val_loss: 0.0910 - val_acc: 0.9861\n",
      "Epoch 94/100\n",
      "1725/1725 [==============================] - 0s 154us/step - loss: 0.0619 - acc: 0.9901 - val_loss: 0.0920 - val_acc: 0.9861\n",
      "Epoch 95/100\n",
      "1725/1725 [==============================] - 0s 156us/step - loss: 0.0634 - acc: 0.9867 - val_loss: 0.0893 - val_acc: 0.9861\n",
      "Epoch 96/100\n",
      "1725/1725 [==============================] - 0s 165us/step - loss: 0.0645 - acc: 0.9890 - val_loss: 0.0901 - val_acc: 0.9861\n",
      "Epoch 97/100\n",
      "1725/1725 [==============================] - 0s 163us/step - loss: 0.0662 - acc: 0.9878 - val_loss: 0.0895 - val_acc: 0.9844\n",
      "Epoch 98/100\n",
      "1725/1725 [==============================] - 0s 154us/step - loss: 0.0657 - acc: 0.9884 - val_loss: 0.0923 - val_acc: 0.9844\n",
      "Epoch 99/100\n",
      "1725/1725 [==============================] - 0s 156us/step - loss: 0.0637 - acc: 0.9890 - val_loss: 0.0920 - val_acc: 0.9844\n",
      "Epoch 100/100\n",
      "1725/1725 [==============================] - 0s 155us/step - loss: 0.0617 - acc: 0.9843 - val_loss: 0.0918 - val_acc: 0.9844\n"
     ]
    }
   ],
   "source": [
    "H = model.fit(x_train, y_train, validation_data=(x_test, y_test),batch_size=64, epochs=100, verbose=1)"
   ]
  },
  {
   "cell_type": "code",
   "execution_count": 20,
   "metadata": {},
   "outputs": [
    {
     "name": "stdout",
     "output_type": "stream",
     "text": [
      "[INFO] evaluating network...\n",
      "             precision    recall  f1-score   support\n",
      "\n",
      "          0       0.99      1.00      0.99        86\n",
      "          1       0.97      0.98      0.98        63\n",
      "          2       1.00      1.00      1.00        75\n",
      "          3       0.96      0.96      0.96        49\n",
      "          4       1.00      0.98      0.99        51\n",
      "          5       1.00      1.00      1.00        43\n",
      "          6       1.00      1.00      1.00        43\n",
      "          7       1.00      1.00      1.00        53\n",
      "          8       0.96      0.98      0.97        53\n",
      "          9       0.97      0.93      0.95        60\n",
      "\n",
      "avg / total       0.98      0.98      0.98       576\n",
      "\n"
     ]
    }
   ],
   "source": [
    "# evaluate the network\n",
    "print(\"[INFO] evaluating network...\")\n",
    "predictions = model.predict(x_test, batch_size=64)\n",
    "print(classification_report(y_test.argmax(axis=1),\n",
    "                            predictions.argmax(axis=1),\n",
    "                            target_names=['0', '1', '2', '3', '4', '5', '6', '7', '8', '9']))"
   ]
  },
  {
   "cell_type": "code",
   "execution_count": 22,
   "metadata": {},
   "outputs": [
    {
     "data": {
      "image/png": "[encoded data removed]",
      "text/plain": [
       "<Figure size 432x288 with 1 Axes>"
      ]
     },
     "metadata": {},
     "output_type": "display_data"
    }
   ],
   "source": [
    "plt.style.use(\"ggplot\")\n",
    "plt.figure()\n",
    "plt.plot(np.arange(0, 100), H.history[\"loss\"], label=\"train_loss\")\n",
    "plt.plot(np.arange(0, 100), H.history[\"val_loss\"], label=\"val_loss\")\n",
    "plt.plot(np.arange(0, 100), H.history[\"acc\"], label=\"train_acc\")\n",
    "plt.plot(np.arange(0, 100), H.history[\"val_acc\"], label=\"val_acc\")\n",
    "plt.title(\"Training Loss and Accuracy\")\n",
    "plt.xlabel(\"Epoch #\")\n",
    "plt.ylabel(\"Loss/Accuracy\")\n",
    "plt.legend()\n",
    "plt.show()"
   ]
  },
  {
   "cell_type": "code",
   "execution_count": 23,
   "metadata": {},
   "outputs": [
    {
     "ename": "NameError",
     "evalue": "name 'ImageDataGenerator' is not defined",
     "traceback": [
      "\u001b[0;31m---------------------------------------------------------------------------\u001b[0m",
      "\u001b[0;31mNameError\u001b[0m                                 Traceback (most recent call last)",
      "\u001b[0;32m<ipython-input-23-798d63e9accf>\u001b[0m in \u001b[0;36m<module>\u001b[0;34m()\u001b[0m\n\u001b[1;32m      1\u001b[0m \u001b[0;31m# construct the image generator for data augmentation\u001b[0m\u001b[0;34m\u001b[0m\u001b[0;34m\u001b[0m\u001b[0m\n\u001b[0;32m----> 2\u001b[0;31m aug = ImageDataGenerator(rotation_range=30, width_shift_range=0.1,\n\u001b[0m\u001b[1;32m      3\u001b[0m                          \u001b[0mheight_shift_range\u001b[0m\u001b[0;34m=\u001b[0m\u001b[0;36m0.1\u001b[0m\u001b[0;34m,\u001b[0m \u001b[0mshear_range\u001b[0m\u001b[0;34m=\u001b[0m\u001b[0;36m0.2\u001b[0m\u001b[0;34m,\u001b[0m \u001b[0mzoom_range\u001b[0m\u001b[0;34m=\u001b[0m\u001b[0;36m0.2\u001b[0m\u001b[0;34m,\u001b[0m\u001b[0;34m\u001b[0m\u001b[0m\n\u001b[1;32m      4\u001b[0m                          horizontal_flip=True, fill_mode=\"nearest\")\n",
      "\u001b[0;31mNameError\u001b[0m: name 'ImageDataGenerator' is not defined"
     ],
     "output_type": "error"
    }
   ],
   "source": [
    "# construct the image generator for data augmentation\n",
    "aug = ImageDataGenerator(rotation_range=30, width_shift_range=0.1,\n",
    "                         height_shift_range=0.1, shear_range=0.2, zoom_range=0.2,\n",
    "                         horizontal_flip=True, fill_mode=\"nearest\")"
   ]
  },
  {
   "cell_type": "code",
   "execution_count": null,
   "metadata": {},
   "outputs": [],
   "source": []
  }
 ],
 "metadata": {
  "kernelspec": {
   "display_name": "Python 3",
   "language": "python",
   "name": "python3"
  },
  "language_info": {
   "codemirror_mode": {
    "name": "ipython",
    "version": 3
   },
   "file_extension": ".py",
   "mimetype": "text/x-python",
   "name": "python",
   "nbconvert_exporter": "python",
   "pygments_lexer": "ipython3",
   "version": "3.6.5"
  }
 },
 "nbformat": 4,
 "nbformat_minor": 2
}
